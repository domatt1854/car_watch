{
 "cells": [
  {
   "cell_type": "code",
   "execution_count": 1,
   "metadata": {},
   "outputs": [],
   "source": [
    "import boto3"
   ]
  },
  {
   "cell_type": "code",
   "execution_count": 2,
   "metadata": {},
   "outputs": [],
   "source": [
    "table_name = \"car_listings\"\n"
   ]
  },
  {
   "cell_type": "code",
   "execution_count": 5,
   "metadata": {},
   "outputs": [],
   "source": [
    "client = boto3.client('dynamodb')\n",
    "DB = boto3.resource('dynamodb')\n",
    "table = DB.Table(table_name)"
   ]
  },
  {
   "cell_type": "markdown",
   "metadata": {},
   "source": [
    "### Describe Table"
   ]
  },
  {
   "cell_type": "code",
   "execution_count": 10,
   "metadata": {},
   "outputs": [
    {
     "data": {
      "text/plain": [
       "0"
      ]
     },
     "execution_count": 10,
     "metadata": {},
     "output_type": "execute_result"
    }
   ],
   "source": [
    "response = client.describe_table(TableName=table_name)\n",
    "# Getting number of items, could be potential ID\n",
    "response['Table']['ItemCount']"
   ]
  },
  {
   "cell_type": "code",
   "execution_count": 21,
   "metadata": {},
   "outputs": [
    {
     "name": "stdout",
     "output_type": "stream",
     "text": [
      "acura.csv\n",
      "alfa_romeo.csv\n",
      "aston_martin.csv\n",
      "bmw.csv\n",
      "buick.csv\n",
      "cadillac.csv\n",
      "chevrolet.csv\n",
      "chrysler.csv\n",
      "fiat.csv\n",
      "ford.csv\n",
      "gmc.csv\n",
      "honda.csv\n",
      "infiniti.csv\n",
      "jeep.csv\n",
      "kia.csv\n",
      "maserati.csv\n",
      "mercedes_benz.csv\n",
      "mini.csv\n",
      "mitsubishi.csv\n",
      "nissan.csv\n",
      "porsche.csv\n",
      "ram.csv\n",
      "rolls_royce.csv\n",
      "subaru.csv\n",
      "toyota.csv\n",
      "volkswagen.csv\n",
      "volvo.csv\n"
     ]
    }
   ],
   "source": [
    "import pandas as pd\n",
    "from os import listdir\n",
    "import re\n",
    "\n",
    "def capitalize(make):\n",
    "    \n",
    "    make = re.sub(\"_\", \" \", make)\n",
    "    make = make.split(\" \")\n",
    "    \n",
    "    make = [i.capitalize() for i in make]\n",
    "    \n",
    "    make = \" \".join(make)\n",
    "    \n",
    "    return make\n",
    "\n",
    "def extract_date(name):\n",
    "    return int(re.search(r\"(\\d{4})\", name).group(1))\n",
    "\n",
    "def clean_mileage(miles):\n",
    "    \n",
    "    mileage = re.sub(',', '', miles)\n",
    "    mileage = re.sub(' mi.', '', mileage)\n",
    "    \n",
    "    return int(mileage)\n",
    "\n",
    "def clean_rating_count(rating_count):\n",
    "    \n",
    "    words_to_remove = ['\\(', '\\)', ' reviews', ',', ' review']\n",
    "    \n",
    "    for i in words_to_remove:\n",
    "        rating_count = re.sub(i, '', rating_count)\n",
    "    \n",
    "    return int(rating_count)\n",
    "\n",
    "def clean_price(price):\n",
    "    \n",
    "    price = re.sub(',', '', price)\n",
    "    price = price.strip('$')\n",
    "    \n",
    "    if price == 'Not Priced':\n",
    "        return None\n",
    "    \n",
    "    return int(price)\n",
    "\n",
    "\n",
    "# Aggregating and Cleaning the data\n",
    "\n",
    "files = listdir('data')\n",
    "\n",
    "data_all = []\n",
    "\n",
    "for i in files:\n",
    "\n",
    "    file_path = \"data/{}\".format(i)\n",
    "    \n",
    "    df = pd.read_csv(file_path, on_bad_lines = 'skip')\n",
    "    df['Make'] = i[:-4]\n",
    "    df = df.drop(columns=[\"Unnamed: 0\"])\n",
    "    \n",
    "    data_all.append(df)\n",
    "    \n",
    "df_all = pd.concat(data_all, axis = 0, ignore_index=True)\n",
    "\n",
    "df_transform = df_all.copy()\n",
    "df_transform = df_transform.dropna()\n",
    "\n",
    "df_transform['Make'] = df_all['Make'].apply(lambda x: capitalize(x))\n",
    "df_transform['Name'].apply(lambda x: extract_date(x))\n",
    "df_transform['Year'] = df_all['Name'].apply(lambda x: extract_date(x))\n",
    "df_transform['Mileage'] = df_transform['Mileage'].apply(lambda x: clean_mileage(x))\n",
    "df_transform['Rating Count'] = df_transform['Rating Count'].apply(lambda x: clean_rating_count(x))\n",
    "df_transform['Price'] = df_transform['Price'].apply(lambda x: clean_price(x))\n",
    "\n",
    "df_transform = df_transform.dropna()"
   ]
  },
  {
   "cell_type": "code",
   "execution_count": 22,
   "metadata": {},
   "outputs": [
    {
     "data": {
      "text/html": [
       "<div>\n",
       "<style scoped>\n",
       "    .dataframe tbody tr th:only-of-type {\n",
       "        vertical-align: middle;\n",
       "    }\n",
       "\n",
       "    .dataframe tbody tr th {\n",
       "        vertical-align: top;\n",
       "    }\n",
       "\n",
       "    .dataframe thead th {\n",
       "        text-align: right;\n",
       "    }\n",
       "</style>\n",
       "<table border=\"1\" class=\"dataframe\">\n",
       "  <thead>\n",
       "    <tr style=\"text-align: right;\">\n",
       "      <th></th>\n",
       "      <th>Name</th>\n",
       "      <th>Mileage</th>\n",
       "      <th>Dealer Name</th>\n",
       "      <th>Rating</th>\n",
       "      <th>Rating Count</th>\n",
       "      <th>Price</th>\n",
       "      <th>Make</th>\n",
       "      <th>Year</th>\n",
       "    </tr>\n",
       "  </thead>\n",
       "  <tbody>\n",
       "    <tr>\n",
       "      <th>0</th>\n",
       "      <td>2020 Acura TLX Technology</td>\n",
       "      <td>13214</td>\n",
       "      <td>Piazza Acura of Ardmore</td>\n",
       "      <td>4.6</td>\n",
       "      <td>138</td>\n",
       "      <td>31999.0</td>\n",
       "      <td>Acura</td>\n",
       "      <td>2020</td>\n",
       "    </tr>\n",
       "    <tr>\n",
       "      <th>1</th>\n",
       "      <td>2020 Acura TLX FWD</td>\n",
       "      <td>35713</td>\n",
       "      <td>Acura Carland</td>\n",
       "      <td>4.5</td>\n",
       "      <td>145</td>\n",
       "      <td>33989.0</td>\n",
       "      <td>Acura</td>\n",
       "      <td>2020</td>\n",
       "    </tr>\n",
       "    <tr>\n",
       "      <th>2</th>\n",
       "      <td>2020 Acura MDX 3.5L</td>\n",
       "      <td>23967</td>\n",
       "      <td>Pohanka Acura</td>\n",
       "      <td>4.8</td>\n",
       "      <td>1662</td>\n",
       "      <td>39128.0</td>\n",
       "      <td>Acura</td>\n",
       "      <td>2020</td>\n",
       "    </tr>\n",
       "    <tr>\n",
       "      <th>3</th>\n",
       "      <td>2020 Acura MDX 3.5L</td>\n",
       "      <td>16437</td>\n",
       "      <td>Hiley Acura</td>\n",
       "      <td>3.7</td>\n",
       "      <td>61</td>\n",
       "      <td>41689.0</td>\n",
       "      <td>Acura</td>\n",
       "      <td>2020</td>\n",
       "    </tr>\n",
       "    <tr>\n",
       "      <th>4</th>\n",
       "      <td>2019 Acura MDX 3.5L</td>\n",
       "      <td>33408</td>\n",
       "      <td>Jay Wolfe Acura of Overland Park</td>\n",
       "      <td>4.8</td>\n",
       "      <td>1498</td>\n",
       "      <td>38051.0</td>\n",
       "      <td>Acura</td>\n",
       "      <td>2019</td>\n",
       "    </tr>\n",
       "  </tbody>\n",
       "</table>\n",
       "</div>"
      ],
      "text/plain": [
       "                        Name  Mileage                       Dealer Name  \\\n",
       "0  2020 Acura TLX Technology    13214           Piazza Acura of Ardmore   \n",
       "1         2020 Acura TLX FWD    35713                     Acura Carland   \n",
       "2        2020 Acura MDX 3.5L    23967                     Pohanka Acura   \n",
       "3        2020 Acura MDX 3.5L    16437                       Hiley Acura   \n",
       "4        2019 Acura MDX 3.5L    33408  Jay Wolfe Acura of Overland Park   \n",
       "\n",
       "   Rating  Rating Count    Price   Make  Year  \n",
       "0     4.6           138  31999.0  Acura  2020  \n",
       "1     4.5           145  33989.0  Acura  2020  \n",
       "2     4.8          1662  39128.0  Acura  2020  \n",
       "3     3.7            61  41689.0  Acura  2020  \n",
       "4     4.8          1498  38051.0  Acura  2019  "
      ]
     },
     "execution_count": 22,
     "metadata": {},
     "output_type": "execute_result"
    }
   ],
   "source": [
    "df_transform.head()"
   ]
  },
  {
   "cell_type": "code",
   "execution_count": 29,
   "metadata": {},
   "outputs": [
    {
     "name": "stdout",
     "output_type": "stream",
     "text": [
      "{'Name': '2020 Acura TLX Technology', 'Mileage': 13214, 'Dealer Name': 'Piazza Acura of Ardmore', 'Rating': 4.6, 'Rating Count': 138, 'Price': 31999.0, 'Make': 'Acura', 'Year': 2020}\n"
     ]
    }
   ],
   "source": [
    "item = df_transform.iloc[0].to_dict()\n",
    "item['Date']"
   ]
  },
  {
   "cell_type": "code",
   "execution_count": 35,
   "metadata": {},
   "outputs": [
    {
     "data": {
      "text/plain": [
       "'2022-08-06'"
      ]
     },
     "execution_count": 35,
     "metadata": {},
     "output_type": "execute_result"
    }
   ],
   "source": [
    "from datetime import datetime\n",
    "today = datetime.now().date().isoformat()\n",
    "today"
   ]
  },
  {
   "cell_type": "code",
   "execution_count": null,
   "metadata": {},
   "outputs": [],
   "source": [
    "primary_key = 0 \n",
    "\n",
    "with table.batch_writer() as batch:\n",
    "    \n",
    "    "
   ]
  },
  {
   "cell_type": "code",
   "execution_count": null,
   "metadata": {},
   "outputs": [],
   "source": []
  }
 ],
 "metadata": {
  "kernelspec": {
   "display_name": "Python 3.10.2 ('car_scraper_venv': venv)",
   "language": "python",
   "name": "python3"
  },
  "language_info": {
   "codemirror_mode": {
    "name": "ipython",
    "version": 3
   },
   "file_extension": ".py",
   "mimetype": "text/x-python",
   "name": "python",
   "nbconvert_exporter": "python",
   "pygments_lexer": "ipython3",
   "version": "3.10.2"
  },
  "orig_nbformat": 4,
  "vscode": {
   "interpreter": {
    "hash": "9dded9cb41c4aced22fd5c78ca4a26111d5c4edd411522df46b56b326eb563d4"
   }
  }
 },
 "nbformat": 4,
 "nbformat_minor": 2
}
