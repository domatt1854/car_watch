{
 "cells": [
  {
   "cell_type": "code",
   "execution_count": 1,
   "metadata": {},
   "outputs": [
    {
     "ename": "ModuleNotFoundError",
     "evalue": "No module named 'matplotlib'",
     "output_type": "error",
     "traceback": [
      "\u001b[1;31m---------------------------------------------------------------------------\u001b[0m",
      "\u001b[1;31mModuleNotFoundError\u001b[0m                       Traceback (most recent call last)",
      "\u001b[1;32mc:\\Users\\timo7\\Desktop\\car_scraper\\query_from_API.ipynb Cell 1\u001b[0m in \u001b[0;36m<cell line: 5>\u001b[1;34m()\u001b[0m\n\u001b[0;32m      <a href='vscode-notebook-cell:/c%3A/Users/timo7/Desktop/car_scraper/query_from_API.ipynb#W0sZmlsZQ%3D%3D?line=2'>3</a>\u001b[0m \u001b[39mimport\u001b[39;00m \u001b[39mpandas\u001b[39;00m \u001b[39mas\u001b[39;00m \u001b[39mpd\u001b[39;00m\n\u001b[0;32m      <a href='vscode-notebook-cell:/c%3A/Users/timo7/Desktop/car_scraper/query_from_API.ipynb#W0sZmlsZQ%3D%3D?line=3'>4</a>\u001b[0m \u001b[39mfrom\u001b[39;00m \u001b[39mdatetime\u001b[39;00m \u001b[39mimport\u001b[39;00m datetime, timedelta\n\u001b[1;32m----> <a href='vscode-notebook-cell:/c%3A/Users/timo7/Desktop/car_scraper/query_from_API.ipynb#W0sZmlsZQ%3D%3D?line=4'>5</a>\u001b[0m \u001b[39mimport\u001b[39;00m \u001b[39mmatplotlib\u001b[39;00m\u001b[39m.\u001b[39;00m\u001b[39mpyplot\u001b[39;00m \u001b[39mas\u001b[39;00m \u001b[39mplt\u001b[39;00m\n\u001b[0;32m      <a href='vscode-notebook-cell:/c%3A/Users/timo7/Desktop/car_scraper/query_from_API.ipynb#W0sZmlsZQ%3D%3D?line=5'>6</a>\u001b[0m \u001b[39mimport\u001b[39;00m \u001b[39mseaborn\u001b[39;00m \u001b[39mas\u001b[39;00m \u001b[39msns\u001b[39;00m\n\u001b[0;32m      <a href='vscode-notebook-cell:/c%3A/Users/timo7/Desktop/car_scraper/query_from_API.ipynb#W0sZmlsZQ%3D%3D?line=6'>7</a>\u001b[0m \u001b[39mfrom\u001b[39;00m \u001b[39mos\u001b[39;00m \u001b[39mimport\u001b[39;00m listdir\n",
      "\u001b[1;31mModuleNotFoundError\u001b[0m: No module named 'matplotlib'"
     ]
    }
   ],
   "source": [
    "import requests\n",
    "import json\n",
    "import pandas as pd\n",
    "from datetime import datetime, timedelta\n",
    "import matplotlib.pyplot as plt\n",
    "import seaborn as sns\n",
    "from os import listdir"
   ]
  },
  {
   "cell_type": "markdown",
   "metadata": {},
   "source": [
    "### Pulling down from new API"
   ]
  },
  {
   "cell_type": "code",
   "execution_count": 1,
   "metadata": {},
   "outputs": [
    {
     "ename": "NameError",
     "evalue": "name 'datetime' is not defined",
     "output_type": "error",
     "traceback": [
      "\u001b[1;31m---------------------------------------------------------------------------\u001b[0m",
      "\u001b[1;31mNameError\u001b[0m                                 Traceback (most recent call last)",
      "\u001b[1;32mc:\\Users\\timo7\\Desktop\\car_scraper\\query_from_API.ipynb Cell 3\u001b[0m in \u001b[0;36m<cell line: 1>\u001b[1;34m()\u001b[0m\n\u001b[1;32m----> <a href='vscode-notebook-cell:/c%3A/Users/timo7/Desktop/car_scraper/query_from_API.ipynb#X30sZmlsZQ%3D%3D?line=0'>1</a>\u001b[0m today \u001b[39m=\u001b[39m datetime\u001b[39m.\u001b[39mnow()\u001b[39m.\u001b[39mdate()\u001b[39m.\u001b[39misoformat()\n\u001b[0;32m      <a href='vscode-notebook-cell:/c%3A/Users/timo7/Desktop/car_scraper/query_from_API.ipynb#X30sZmlsZQ%3D%3D?line=2'>3</a>\u001b[0m url \u001b[39m=\u001b[39m \u001b[39m\"\u001b[39m\u001b[39mAPI_URL\u001b[39m\u001b[39m\"\u001b[39m\n\u001b[0;32m      <a href='vscode-notebook-cell:/c%3A/Users/timo7/Desktop/car_scraper/query_from_API.ipynb#X30sZmlsZQ%3D%3D?line=4'>5</a>\u001b[0m today \u001b[39m=\u001b[39m datetime\u001b[39m.\u001b[39mnow()\u001b[39m.\u001b[39mdate()\u001b[39m.\u001b[39misoformat()\n",
      "\u001b[1;31mNameError\u001b[0m: name 'datetime' is not defined"
     ]
    }
   ],
   "source": [
    "today = datetime.now().date().isoformat()\n",
    "\n",
    "url = \"API_URL\"\n",
    "\n",
    "today = datetime.now().date().isoformat()\n",
    "\n",
    "for make in makes:\n",
    "    \n",
    "    querystring = {\"make\":make,\"date\":today}\n",
    "\n",
    "    payload = \"\"\n",
    "    headers = {\"x-api-key\": \"API_KEY\"}\n",
    "\n",
    "    response = requests.request(\"GET\", url, data=payload, headers=headers, params=querystring)\n",
    "\n",
    "    res = json.loads(response.text)\n",
    "    \n",
    "    print(\"{}: {}\".format(make, len(res)))"
   ]
  },
  {
   "cell_type": "code",
   "execution_count": 4,
   "metadata": {},
   "outputs": [],
   "source": [
    "makes = [\n",
    "    \"acura\",\n",
    "    \"buick\",\n",
    "    \"cadillac\",\n",
    "    \"chevrolet\",\n",
    "    \"chrysler\",\n",
    "    \"gmc\",\n",
    "    \"ford\",\n",
    "    \"honda\",\n",
    "    \"infiniti\",\n",
    "    \"jeep\",\n",
    "    \"kia\",\n",
    "    \"mitsubishi\",\n",
    "    \"nissan\",\n",
    "    \"porsche\",\n",
    "    \"ram\",\n",
    "    \"subaru\",\n",
    "    \"toyota\",\n",
    "    \"volkswagen\",\n",
    "    \"volvo\",\n",
    "    \"alfa_romeo\",\n",
    "    \"rolls_royce\",\n",
    "    \"mini\",\n",
    "    \"fiat\",\n",
    "    \"aston_martin\",\n",
    "    \"maserati\",\n",
    "    \"bmw\",\n",
    "    \"mercedes_benz\"\n",
    "]\n",
    "\n",
    "\n",
    "headers = {\n",
    "    'x-api-key': 'API KEY'\n",
    "}\n",
    "\n",
    "all_cars = []\n",
    "\n",
    "for i in makes:\n",
    "    \n",
    "    params = {\n",
    "        'make': i,\n",
    "    }\n",
    "\n",
    "\n",
    "    res = requests.get('API URL', headers = headers, params=params)\n",
    "\n",
    "\n",
    "\n",
    "    output = json.loads(res.content)\n",
    "\n",
    "    all_cars += output\n",
    "\n"
   ]
  },
  {
   "cell_type": "code",
   "execution_count": 1,
   "metadata": {},
   "outputs": [
    {
     "ename": "NameError",
     "evalue": "name 'listdir' is not defined",
     "output_type": "error",
     "traceback": [
      "\u001b[1;31m---------------------------------------------------------------------------\u001b[0m",
      "\u001b[1;31mNameError\u001b[0m                                 Traceback (most recent call last)",
      "\u001b[1;32mc:\\Users\\timo7\\Desktop\\car_scraper\\query_from_API.ipynb Cell 3\u001b[0m in \u001b[0;36m<cell line: 3>\u001b[1;34m()\u001b[0m\n\u001b[0;32m      <a href='vscode-notebook-cell:/c%3A/Users/timo7/Desktop/car_scraper/query_from_API.ipynb#W2sZmlsZQ%3D%3D?line=0'>1</a>\u001b[0m data_all \u001b[39m=\u001b[39m []\n\u001b[1;32m----> <a href='vscode-notebook-cell:/c%3A/Users/timo7/Desktop/car_scraper/query_from_API.ipynb#W2sZmlsZQ%3D%3D?line=2'>3</a>\u001b[0m files \u001b[39m=\u001b[39m listdir(\u001b[39m'\u001b[39m\u001b[39mdata\u001b[39m\u001b[39m'\u001b[39m)\n\u001b[0;32m      <a href='vscode-notebook-cell:/c%3A/Users/timo7/Desktop/car_scraper/query_from_API.ipynb#W2sZmlsZQ%3D%3D?line=3'>4</a>\u001b[0m \u001b[39mfor\u001b[39;00m i \u001b[39min\u001b[39;00m files:\n\u001b[0;32m      <a href='vscode-notebook-cell:/c%3A/Users/timo7/Desktop/car_scraper/query_from_API.ipynb#W2sZmlsZQ%3D%3D?line=5'>6</a>\u001b[0m     file_path \u001b[39m=\u001b[39m \u001b[39m\"\u001b[39m\u001b[39mdata/\u001b[39m\u001b[39m{}\u001b[39;00m\u001b[39m\"\u001b[39m\u001b[39m.\u001b[39mformat(i)\n",
      "\u001b[1;31mNameError\u001b[0m: name 'listdir' is not defined"
     ]
    }
   ],
   "source": [
    "data_all = []\n",
    "\n",
    "files = listdir('data')\n",
    "\n",
    "for i in files:\n",
    "\n",
    "    file_path = \"data/{}\".format(i)\n",
    "    \n",
    "    df = pd.read_csv(file_path, on_bad_lines = 'skip')\n",
    "    df['Make'] = i[:-4]\n",
    "    df = df.drop(columns=[\"Unnamed: 0\"])\n",
    "    \n",
    "    data_all.append(df)\n",
    "    \n",
    "df = pd.concat(data_all, axis = 0, ignore_index=True)\n",
    "\n",
    "\n",
    "\n",
    "#df = pd.DataFrame(all_cars, columns = ['Id', 'Date', \"Model\", 'Make', 'Mileage', 'Dealer', 'Dealer Rating', 'Rating Count', 'Price', 'Year'])"
   ]
  },
  {
   "cell_type": "code",
   "execution_count": 6,
   "metadata": {},
   "outputs": [
    {
     "name": "stdout",
     "output_type": "stream",
     "text": [
      "<class 'pandas.core.frame.DataFrame'>\n",
      "RangeIndex: 18912 entries, 0 to 18911\n",
      "Data columns (total 10 columns):\n",
      " #   Column         Non-Null Count  Dtype  \n",
      "---  ------         --------------  -----  \n",
      " 0   Id             18912 non-null  int64  \n",
      " 1   Date           18912 non-null  object \n",
      " 2   Model          18912 non-null  object \n",
      " 3   Make           18912 non-null  object \n",
      " 4   Mileage        18912 non-null  int64  \n",
      " 5   Dealer         18912 non-null  object \n",
      " 6   Dealer Rating  18912 non-null  float64\n",
      " 7   Rating Count   18912 non-null  int64  \n",
      " 8   Price          18818 non-null  float64\n",
      " 9   Year           18912 non-null  int64  \n",
      "dtypes: float64(2), int64(4), object(4)\n",
      "memory usage: 1.4+ MB\n"
     ]
    }
   ],
   "source": [
    "df.info()"
   ]
  },
  {
   "cell_type": "code",
   "execution_count": 7,
   "metadata": {},
   "outputs": [
    {
     "name": "stdout",
     "output_type": "stream",
     "text": [
      "2022-05-13 2022-06-15\n"
     ]
    }
   ],
   "source": [
    "print(min(df['Date']), max(df['Date']))"
   ]
  },
  {
   "cell_type": "code",
   "execution_count": 8,
   "metadata": {},
   "outputs": [],
   "source": [
    "df['Date'] = pd.to_datetime(df['Date'])"
   ]
  },
  {
   "cell_type": "markdown",
   "metadata": {},
   "source": [
    "#### Possible Viz's\n",
    "\n",
    "- Listings of each car make and their price in the past week\n",
    "\n",
    "- Select one car make-model from a drop-down menu and check how the average price listing has been, avg with # listings - recent week\n",
    "- mileage to price correlation for each make - recent week \n",
    "- donut chart for each different model\n",
    "\n",
    "\n",
    "\n",
    "- Make some linear regression with car models, price"
   ]
  },
  {
   "cell_type": "markdown",
   "metadata": {},
   "source": [
    "### Example of one model: Acura"
   ]
  },
  {
   "cell_type": "code",
   "execution_count": 9,
   "metadata": {},
   "outputs": [],
   "source": [
    "df_acura = df[df['Make'] == 'Acura']"
   ]
  },
  {
   "cell_type": "markdown",
   "metadata": {},
   "source": [
    "### Grabbing listings made since the last week"
   ]
  },
  {
   "cell_type": "code",
   "execution_count": 10,
   "metadata": {},
   "outputs": [
    {
     "data": {
      "text/html": [
       "<div>\n",
       "<style scoped>\n",
       "    .dataframe tbody tr th:only-of-type {\n",
       "        vertical-align: middle;\n",
       "    }\n",
       "\n",
       "    .dataframe tbody tr th {\n",
       "        vertical-align: top;\n",
       "    }\n",
       "\n",
       "    .dataframe thead th {\n",
       "        text-align: right;\n",
       "    }\n",
       "</style>\n",
       "<table border=\"1\" class=\"dataframe\">\n",
       "  <thead>\n",
       "    <tr style=\"text-align: right;\">\n",
       "      <th></th>\n",
       "      <th>Id</th>\n",
       "      <th>Date</th>\n",
       "      <th>Model</th>\n",
       "      <th>Make</th>\n",
       "      <th>Mileage</th>\n",
       "      <th>Dealer</th>\n",
       "      <th>Dealer Rating</th>\n",
       "      <th>Rating Count</th>\n",
       "      <th>Price</th>\n",
       "      <th>Year</th>\n",
       "    </tr>\n",
       "  </thead>\n",
       "  <tbody>\n",
       "    <tr>\n",
       "      <th>674</th>\n",
       "      <td>17361</td>\n",
       "      <td>2022-06-09</td>\n",
       "      <td>2021 Acura TLX A-Spec</td>\n",
       "      <td>Acura</td>\n",
       "      <td>10673</td>\n",
       "      <td>Fresno Acura</td>\n",
       "      <td>4.6</td>\n",
       "      <td>138</td>\n",
       "      <td>53475.0</td>\n",
       "      <td>2021</td>\n",
       "    </tr>\n",
       "    <tr>\n",
       "      <th>675</th>\n",
       "      <td>17362</td>\n",
       "      <td>2022-06-09</td>\n",
       "      <td>2019 Acura MDX 3.5L</td>\n",
       "      <td>Acura</td>\n",
       "      <td>28774</td>\n",
       "      <td>Hendrick Southpoint Auto Mall</td>\n",
       "      <td>4.8</td>\n",
       "      <td>790</td>\n",
       "      <td>38998.0</td>\n",
       "      <td>2019</td>\n",
       "    </tr>\n",
       "    <tr>\n",
       "      <th>676</th>\n",
       "      <td>17363</td>\n",
       "      <td>2022-06-09</td>\n",
       "      <td>2020 Acura MDX 3.5L w/Technology Package</td>\n",
       "      <td>Acura</td>\n",
       "      <td>25244</td>\n",
       "      <td>Gary Force Acura</td>\n",
       "      <td>4.4</td>\n",
       "      <td>94</td>\n",
       "      <td>45995.0</td>\n",
       "      <td>2020</td>\n",
       "    </tr>\n",
       "    <tr>\n",
       "      <th>677</th>\n",
       "      <td>17364</td>\n",
       "      <td>2022-06-09</td>\n",
       "      <td>2020 Acura MDX 3.5L w/Technology Package</td>\n",
       "      <td>Acura</td>\n",
       "      <td>14261</td>\n",
       "      <td>Ron Tonkin Acura</td>\n",
       "      <td>4.7</td>\n",
       "      <td>132</td>\n",
       "      <td>49995.0</td>\n",
       "      <td>2020</td>\n",
       "    </tr>\n",
       "    <tr>\n",
       "      <th>678</th>\n",
       "      <td>17365</td>\n",
       "      <td>2022-06-09</td>\n",
       "      <td>2021 Acura RDX A-Spec</td>\n",
       "      <td>Acura</td>\n",
       "      <td>4437</td>\n",
       "      <td>Acura Of Bellevue</td>\n",
       "      <td>3.0</td>\n",
       "      <td>4</td>\n",
       "      <td>51418.0</td>\n",
       "      <td>2021</td>\n",
       "    </tr>\n",
       "    <tr>\n",
       "      <th>...</th>\n",
       "      <td>...</td>\n",
       "      <td>...</td>\n",
       "      <td>...</td>\n",
       "      <td>...</td>\n",
       "      <td>...</td>\n",
       "      <td>...</td>\n",
       "      <td>...</td>\n",
       "      <td>...</td>\n",
       "      <td>...</td>\n",
       "      <td>...</td>\n",
       "    </tr>\n",
       "    <tr>\n",
       "      <th>802</th>\n",
       "      <td>20166</td>\n",
       "      <td>2022-06-15</td>\n",
       "      <td>2020 Acura MDX 3.5L</td>\n",
       "      <td>Acura</td>\n",
       "      <td>28450</td>\n",
       "      <td>Hiley Acura</td>\n",
       "      <td>3.7</td>\n",
       "      <td>61</td>\n",
       "      <td>37064.0</td>\n",
       "      <td>2020</td>\n",
       "    </tr>\n",
       "    <tr>\n",
       "      <th>803</th>\n",
       "      <td>20167</td>\n",
       "      <td>2022-06-15</td>\n",
       "      <td>2019 Acura RDX Technology Package</td>\n",
       "      <td>Acura</td>\n",
       "      <td>24993</td>\n",
       "      <td>Autonation Acura South Bay</td>\n",
       "      <td>4.8</td>\n",
       "      <td>950</td>\n",
       "      <td>35990.0</td>\n",
       "      <td>2019</td>\n",
       "    </tr>\n",
       "    <tr>\n",
       "      <th>804</th>\n",
       "      <td>20168</td>\n",
       "      <td>2022-06-15</td>\n",
       "      <td>2016 Acura TLX Tech</td>\n",
       "      <td>Acura</td>\n",
       "      <td>75109</td>\n",
       "      <td>Jay Wolfe Acura</td>\n",
       "      <td>4.8</td>\n",
       "      <td>2395</td>\n",
       "      <td>22897.0</td>\n",
       "      <td>2016</td>\n",
       "    </tr>\n",
       "    <tr>\n",
       "      <th>805</th>\n",
       "      <td>20169</td>\n",
       "      <td>2022-06-15</td>\n",
       "      <td>2020 Acura RDX Advance Package</td>\n",
       "      <td>Acura</td>\n",
       "      <td>43490</td>\n",
       "      <td>Acura Of Ramsey</td>\n",
       "      <td>4.8</td>\n",
       "      <td>1761</td>\n",
       "      <td>41995.0</td>\n",
       "      <td>2020</td>\n",
       "    </tr>\n",
       "    <tr>\n",
       "      <th>806</th>\n",
       "      <td>20170</td>\n",
       "      <td>2022-06-15</td>\n",
       "      <td>2021 Acura RDX A-Spec</td>\n",
       "      <td>Acura</td>\n",
       "      <td>13769</td>\n",
       "      <td>Harper Acura</td>\n",
       "      <td>4.9</td>\n",
       "      <td>939</td>\n",
       "      <td>44788.0</td>\n",
       "      <td>2021</td>\n",
       "    </tr>\n",
       "  </tbody>\n",
       "</table>\n",
       "<p>133 rows × 10 columns</p>\n",
       "</div>"
      ],
      "text/plain": [
       "        Id       Date                                     Model   Make  \\\n",
       "674  17361 2022-06-09                     2021 Acura TLX A-Spec  Acura   \n",
       "675  17362 2022-06-09                       2019 Acura MDX 3.5L  Acura   \n",
       "676  17363 2022-06-09  2020 Acura MDX 3.5L w/Technology Package  Acura   \n",
       "677  17364 2022-06-09  2020 Acura MDX 3.5L w/Technology Package  Acura   \n",
       "678  17365 2022-06-09                     2021 Acura RDX A-Spec  Acura   \n",
       "..     ...        ...                                       ...    ...   \n",
       "802  20166 2022-06-15                       2020 Acura MDX 3.5L  Acura   \n",
       "803  20167 2022-06-15         2019 Acura RDX Technology Package  Acura   \n",
       "804  20168 2022-06-15                       2016 Acura TLX Tech  Acura   \n",
       "805  20169 2022-06-15            2020 Acura RDX Advance Package  Acura   \n",
       "806  20170 2022-06-15                     2021 Acura RDX A-Spec  Acura   \n",
       "\n",
       "     Mileage                         Dealer  Dealer Rating  Rating Count  \\\n",
       "674    10673                   Fresno Acura            4.6           138   \n",
       "675    28774  Hendrick Southpoint Auto Mall            4.8           790   \n",
       "676    25244               Gary Force Acura            4.4            94   \n",
       "677    14261               Ron Tonkin Acura            4.7           132   \n",
       "678     4437              Acura Of Bellevue            3.0             4   \n",
       "..       ...                            ...            ...           ...   \n",
       "802    28450                    Hiley Acura            3.7            61   \n",
       "803    24993     Autonation Acura South Bay            4.8           950   \n",
       "804    75109                Jay Wolfe Acura            4.8          2395   \n",
       "805    43490                Acura Of Ramsey            4.8          1761   \n",
       "806    13769                   Harper Acura            4.9           939   \n",
       "\n",
       "       Price  Year  \n",
       "674  53475.0  2021  \n",
       "675  38998.0  2019  \n",
       "676  45995.0  2020  \n",
       "677  49995.0  2020  \n",
       "678  51418.0  2021  \n",
       "..       ...   ...  \n",
       "802  37064.0  2020  \n",
       "803  35990.0  2019  \n",
       "804  22897.0  2016  \n",
       "805  41995.0  2020  \n",
       "806  44788.0  2021  \n",
       "\n",
       "[133 rows x 10 columns]"
      ]
     },
     "execution_count": 10,
     "metadata": {},
     "output_type": "execute_result"
    }
   ],
   "source": [
    "df_acura_week_recent = df_acura[df_acura['Date'] > max(df_acura['Date']) - timedelta(days=7)]\n",
    "df_acura_week_recent"
   ]
  },
  {
   "cell_type": "code",
   "execution_count": 11,
   "metadata": {},
   "outputs": [],
   "source": [
    "df_acura_week_number_listings = df_acura_week_recent['Date'].value_counts()\n",
    "df_acura_week_number_listings = pd.DataFrame(df_acura_week_number_listings)\n",
    "df_acura_week_number_listings.columns = ['Number Listings']\n"
   ]
  },
  {
   "cell_type": "markdown",
   "metadata": {},
   "source": [
    "### Simple overview of number of listings the past week"
   ]
  },
  {
   "cell_type": "code",
   "execution_count": 12,
   "metadata": {},
   "outputs": [
    {
     "data": {
      "text/plain": [
       "<AxesSubplot:ylabel='Number Listings'>"
      ]
     },
     "execution_count": 12,
     "metadata": {},
     "output_type": "execute_result"
    },
    {
     "data": {
      "image/png": "[encoded data removed]",
      "text/plain": [
       "<Figure size 1728x720 with 1 Axes>"
      ]
     },
     "metadata": {
      "needs_background": "light"
     },
     "output_type": "display_data"
    }
   ],
   "source": [
    "plt.figure(figsize=(24,10))\n",
    "sns.lineplot(data = df_acura_week_number_listings, x = df_acura_week_number_listings.index , y = 'Number Listings')"
   ]
  },
  {
   "cell_type": "code",
   "execution_count": 17,
   "metadata": {},
   "outputs": [
    {
     "data": {
      "text/plain": [
       "<AxesSubplot:xlabel='Date', ylabel='Price'>"
      ]
     },
     "execution_count": 17,
     "metadata": {},
     "output_type": "execute_result"
    },
    {
     "data": {
      "image/png": "[encoded data removed]",
      "text/plain": [
       "<Figure size 1728x720 with 1 Axes>"
      ]
     },
     "metadata": {
      "needs_background": "light"
     },
     "output_type": "display_data"
    }
   ],
   "source": [
    "plt.figure(figsize=(24,10))\n",
    "sns.boxplot(data = df_acura_week_recent, x = 'Date' , y = 'Price')"
   ]
  },
  {
   "cell_type": "code",
   "execution_count": 13,
   "metadata": {},
   "outputs": [
    {
     "data": {
      "text/plain": [
       "<AxesSubplot:xlabel='Date', ylabel='Price'>"
      ]
     },
     "execution_count": 13,
     "metadata": {},
     "output_type": "execute_result"
    },
    {
     "data": {
      "image/png": "[encoded data removed]",
      "text/plain": [
       "<Figure size 1296x576 with 1 Axes>"
      ]
     },
     "metadata": {
      "needs_background": "light"
     },
     "output_type": "display_data"
    }
   ],
   "source": [
    "df_acura_week_recent.groupby(['Date', 'Model'])['Model'].value_counts().unstack()\n",
    "# sns.lineplot(df_acura_week_recent.groupby(['Date', 'Model'])['Model'].value_counts().unstack())\n",
    "\n",
    "plt.figure(figsize=(18,8))\n",
    "sns.swarmplot(data = df_acura_week_recent, x = 'Date', y='Price')\n"
   ]
  },
  {
   "cell_type": "code",
   "execution_count": 14,
   "metadata": {},
   "outputs": [
    {
     "data": {
      "text/plain": [
       "2020 Acura MDX 3.5L w/Technology Package    89\n",
       "2020 Acura MDX 3.5L                         78\n",
       "2019 Acura RDX Base                         58\n",
       "2019 Acura MDX 3.5L                         42\n",
       "2021 Acura RDX A-Spec                       40\n",
       "                                            ..\n",
       "2022 Acura MDX Advance Package               1\n",
       "2019 Acura TLX V6 w/Technology Package       1\n",
       "2018 Acura MDX 3.5L                          1\n",
       "2021 Acura TLX Type S                        1\n",
       "2016 Acura TLX Tech                          1\n",
       "Name: Model, Length: 85, dtype: int64"
      ]
     },
     "execution_count": 14,
     "metadata": {},
     "output_type": "execute_result"
    }
   ],
   "source": [
    "df_acura['Model'].value_counts()"
   ]
  },
  {
   "cell_type": "code",
   "execution_count": 15,
   "metadata": {},
   "outputs": [
    {
     "data": {
      "text/plain": [
       "<AxesSubplot:xlabel='Mileage', ylabel='Price'>"
      ]
     },
     "execution_count": 15,
     "metadata": {},
     "output_type": "execute_result"
    },
    {
     "data": {
      "image/png": "[encoded data removed]",
      "text/plain": [
       "<Figure size 432x288 with 1 Axes>"
      ]
     },
     "metadata": {
      "needs_background": "light"
     },
     "output_type": "display_data"
    }
   ],
   "source": [
    "sns.scatterplot(data = df_acura_week_recent, x = 'Mileage', y = 'Price', hue = 'Year')"
   ]
  },
  {
   "cell_type": "code",
   "execution_count": 16,
   "metadata": {},
   "outputs": [
    {
     "data": {
      "text/html": [
       "<div>\n",
       "<style scoped>\n",
       "    .dataframe tbody tr th:only-of-type {\n",
       "        vertical-align: middle;\n",
       "    }\n",
       "\n",
       "    .dataframe tbody tr th {\n",
       "        vertical-align: top;\n",
       "    }\n",
       "\n",
       "    .dataframe thead th {\n",
       "        text-align: right;\n",
       "    }\n",
       "</style>\n",
       "<table border=\"1\" class=\"dataframe\">\n",
       "  <thead>\n",
       "    <tr style=\"text-align: right;\">\n",
       "      <th></th>\n",
       "      <th>Id</th>\n",
       "      <th>Mileage</th>\n",
       "      <th>Dealer Rating</th>\n",
       "      <th>Rating Count</th>\n",
       "      <th>Price</th>\n",
       "      <th>Year</th>\n",
       "    </tr>\n",
       "  </thead>\n",
       "  <tbody>\n",
       "    <tr>\n",
       "      <th>Id</th>\n",
       "      <td>1.000000</td>\n",
       "      <td>0.075261</td>\n",
       "      <td>0.135679</td>\n",
       "      <td>0.094121</td>\n",
       "      <td>-0.220473</td>\n",
       "      <td>-0.141525</td>\n",
       "    </tr>\n",
       "    <tr>\n",
       "      <th>Mileage</th>\n",
       "      <td>0.075261</td>\n",
       "      <td>1.000000</td>\n",
       "      <td>0.099132</td>\n",
       "      <td>0.168646</td>\n",
       "      <td>-0.478086</td>\n",
       "      <td>-0.742479</td>\n",
       "    </tr>\n",
       "    <tr>\n",
       "      <th>Dealer Rating</th>\n",
       "      <td>0.135679</td>\n",
       "      <td>0.099132</td>\n",
       "      <td>1.000000</td>\n",
       "      <td>0.375120</td>\n",
       "      <td>-0.118595</td>\n",
       "      <td>-0.088439</td>\n",
       "    </tr>\n",
       "    <tr>\n",
       "      <th>Rating Count</th>\n",
       "      <td>0.094121</td>\n",
       "      <td>0.168646</td>\n",
       "      <td>0.375120</td>\n",
       "      <td>1.000000</td>\n",
       "      <td>-0.180405</td>\n",
       "      <td>-0.138463</td>\n",
       "    </tr>\n",
       "    <tr>\n",
       "      <th>Price</th>\n",
       "      <td>-0.220473</td>\n",
       "      <td>-0.478086</td>\n",
       "      <td>-0.118595</td>\n",
       "      <td>-0.180405</td>\n",
       "      <td>1.000000</td>\n",
       "      <td>0.623699</td>\n",
       "    </tr>\n",
       "    <tr>\n",
       "      <th>Year</th>\n",
       "      <td>-0.141525</td>\n",
       "      <td>-0.742479</td>\n",
       "      <td>-0.088439</td>\n",
       "      <td>-0.138463</td>\n",
       "      <td>0.623699</td>\n",
       "      <td>1.000000</td>\n",
       "    </tr>\n",
       "  </tbody>\n",
       "</table>\n",
       "</div>"
      ],
      "text/plain": [
       "                     Id   Mileage  Dealer Rating  Rating Count     Price  \\\n",
       "Id             1.000000  0.075261       0.135679      0.094121 -0.220473   \n",
       "Mileage        0.075261  1.000000       0.099132      0.168646 -0.478086   \n",
       "Dealer Rating  0.135679  0.099132       1.000000      0.375120 -0.118595   \n",
       "Rating Count   0.094121  0.168646       0.375120      1.000000 -0.180405   \n",
       "Price         -0.220473 -0.478086      -0.118595     -0.180405  1.000000   \n",
       "Year          -0.141525 -0.742479      -0.088439     -0.138463  0.623699   \n",
       "\n",
       "                   Year  \n",
       "Id            -0.141525  \n",
       "Mileage       -0.742479  \n",
       "Dealer Rating -0.088439  \n",
       "Rating Count  -0.138463  \n",
       "Price          0.623699  \n",
       "Year           1.000000  "
      ]
     },
     "execution_count": 16,
     "metadata": {},
     "output_type": "execute_result"
    }
   ],
   "source": [
    "df_acura_week_recent.corr()"
   ]
  },
  {
   "cell_type": "markdown",
   "metadata": {},
   "source": [
    "# Ideas for Viz\n",
    "\n"
   ]
  },
  {
   "cell_type": "code",
   "execution_count": null,
   "metadata": {},
   "outputs": [],
   "source": []
  }
 ],
 "metadata": {
  "kernelspec": {
   "display_name": "Python 3.10.2 ('car_scraper_venv': venv)",
   "language": "python",
   "name": "python3"
  },
  "language_info": {
   "codemirror_mode": {
    "name": "ipython",
    "version": 3
   },
   "file_extension": ".py",
   "mimetype": "text/x-python",
   "name": "python",
   "nbconvert_exporter": "python",
   "pygments_lexer": "ipython3",
   "version": "3.10.2"
  },
  "orig_nbformat": 4,
  "vscode": {
   "interpreter": {
    "hash": "9dded9cb41c4aced22fd5c78ca4a26111d5c4edd411522df46b56b326eb563d4"
   }
  }
 },
 "nbformat": 4,
 "nbformat_minor": 2
}
