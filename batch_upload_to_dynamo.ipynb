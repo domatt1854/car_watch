{
 "cells": [
  {
   "cell_type": "code",
   "execution_count": 1,
   "metadata": {},
   "outputs": [],
   "source": [
    "import boto3"
   ]
  },
  {
   "cell_type": "code",
   "execution_count": 2,
   "metadata": {},
   "outputs": [],
   "source": [
    "table_name = \"car_listings\"\n",
    "\n",
    "client = boto3.client('dynamodb')\n",
    "DB = boto3.resource('dynamodb')\n",
    "table = DB.Table(table_name)"
   ]
  },
  {
   "cell_type": "markdown",
   "metadata": {},
   "source": [
    "### Describe Table"
   ]
  },
  {
   "cell_type": "code",
   "execution_count": 3,
   "metadata": {},
   "outputs": [
    {
     "data": {
      "text/plain": [
       "0"
      ]
     },
     "execution_count": 3,
     "metadata": {},
     "output_type": "execute_result"
    }
   ],
   "source": [
    "response = client.describe_table(TableName=table_name)\n",
    "# Getting number of items, could be potential ID\n",
    "response['Table']['ItemCount']"
   ]
  },
  {
   "cell_type": "code",
   "execution_count": 4,
   "metadata": {},
   "outputs": [
    {
     "ename": "UnicodeDecodeError",
     "evalue": "'utf-8' codec can't decode byte 0x89 in position 0: invalid start byte",
     "output_type": "error",
     "traceback": [
      "\u001b[1;31m---------------------------------------------------------------------------\u001b[0m",
      "\u001b[1;31mUnicodeDecodeError\u001b[0m                        Traceback (most recent call last)",
      "\u001b[1;32mc:\\Users\\domat\\Desktop\\Data Engineering\\car_scraper\\batch_upload_to_dynamo.ipynb Cell 5\u001b[0m in \u001b[0;36m<cell line: 52>\u001b[1;34m()\u001b[0m\n\u001b[0;32m     <a href='vscode-notebook-cell:/c%3A/Users/domat/Desktop/Data%20Engineering/car_scraper/batch_upload_to_dynamo.ipynb#W4sZmlsZQ%3D%3D?line=51'>52</a>\u001b[0m \u001b[39mfor\u001b[39;00m i \u001b[39min\u001b[39;00m files:\n\u001b[0;32m     <a href='vscode-notebook-cell:/c%3A/Users/domat/Desktop/Data%20Engineering/car_scraper/batch_upload_to_dynamo.ipynb#W4sZmlsZQ%3D%3D?line=53'>54</a>\u001b[0m     file_path \u001b[39m=\u001b[39m \u001b[39m\"\u001b[39m\u001b[39mdata/\u001b[39m\u001b[39m{}\u001b[39;00m\u001b[39m\"\u001b[39m\u001b[39m.\u001b[39mformat(i)\n\u001b[1;32m---> <a href='vscode-notebook-cell:/c%3A/Users/domat/Desktop/Data%20Engineering/car_scraper/batch_upload_to_dynamo.ipynb#W4sZmlsZQ%3D%3D?line=55'>56</a>\u001b[0m     df \u001b[39m=\u001b[39m pd\u001b[39m.\u001b[39;49mread_csv(file_path, on_bad_lines \u001b[39m=\u001b[39;49m \u001b[39m'\u001b[39;49m\u001b[39mskip\u001b[39;49m\u001b[39m'\u001b[39;49m)\n\u001b[0;32m     <a href='vscode-notebook-cell:/c%3A/Users/domat/Desktop/Data%20Engineering/car_scraper/batch_upload_to_dynamo.ipynb#W4sZmlsZQ%3D%3D?line=56'>57</a>\u001b[0m     df[\u001b[39m'\u001b[39m\u001b[39mMake\u001b[39m\u001b[39m'\u001b[39m] \u001b[39m=\u001b[39m i[:\u001b[39m-\u001b[39m\u001b[39m4\u001b[39m]\n\u001b[0;32m     <a href='vscode-notebook-cell:/c%3A/Users/domat/Desktop/Data%20Engineering/car_scraper/batch_upload_to_dynamo.ipynb#W4sZmlsZQ%3D%3D?line=57'>58</a>\u001b[0m     df \u001b[39m=\u001b[39m df\u001b[39m.\u001b[39mdrop(columns\u001b[39m=\u001b[39m[\u001b[39m\"\u001b[39m\u001b[39mUnnamed: 0\u001b[39m\u001b[39m\"\u001b[39m])\n",
      "File \u001b[1;32mc:\\Users\\domat\\Desktop\\Data Engineering\\car_scraper\\scraper_venv\\lib\\site-packages\\pandas\\util\\_decorators.py:311\u001b[0m, in \u001b[0;36mdeprecate_nonkeyword_arguments.<locals>.decorate.<locals>.wrapper\u001b[1;34m(*args, **kwargs)\u001b[0m\n\u001b[0;32m    305\u001b[0m \u001b[39mif\u001b[39;00m \u001b[39mlen\u001b[39m(args) \u001b[39m>\u001b[39m num_allow_args:\n\u001b[0;32m    306\u001b[0m     warnings\u001b[39m.\u001b[39mwarn(\n\u001b[0;32m    307\u001b[0m         msg\u001b[39m.\u001b[39mformat(arguments\u001b[39m=\u001b[39marguments),\n\u001b[0;32m    308\u001b[0m         \u001b[39mFutureWarning\u001b[39;00m,\n\u001b[0;32m    309\u001b[0m         stacklevel\u001b[39m=\u001b[39mstacklevel,\n\u001b[0;32m    310\u001b[0m     )\n\u001b[1;32m--> 311\u001b[0m \u001b[39mreturn\u001b[39;00m func(\u001b[39m*\u001b[39margs, \u001b[39m*\u001b[39m\u001b[39m*\u001b[39mkwargs)\n",
      "File \u001b[1;32mc:\\Users\\domat\\Desktop\\Data Engineering\\car_scraper\\scraper_venv\\lib\\site-packages\\pandas\\io\\parsers\\readers.py:680\u001b[0m, in \u001b[0;36mread_csv\u001b[1;34m(filepath_or_buffer, sep, delimiter, header, names, index_col, usecols, squeeze, prefix, mangle_dupe_cols, dtype, engine, converters, true_values, false_values, skipinitialspace, skiprows, skipfooter, nrows, na_values, keep_default_na, na_filter, verbose, skip_blank_lines, parse_dates, infer_datetime_format, keep_date_col, date_parser, dayfirst, cache_dates, iterator, chunksize, compression, thousands, decimal, lineterminator, quotechar, quoting, doublequote, escapechar, comment, encoding, encoding_errors, dialect, error_bad_lines, warn_bad_lines, on_bad_lines, delim_whitespace, low_memory, memory_map, float_precision, storage_options)\u001b[0m\n\u001b[0;32m    665\u001b[0m kwds_defaults \u001b[39m=\u001b[39m _refine_defaults_read(\n\u001b[0;32m    666\u001b[0m     dialect,\n\u001b[0;32m    667\u001b[0m     delimiter,\n\u001b[1;32m   (...)\u001b[0m\n\u001b[0;32m    676\u001b[0m     defaults\u001b[39m=\u001b[39m{\u001b[39m\"\u001b[39m\u001b[39mdelimiter\u001b[39m\u001b[39m\"\u001b[39m: \u001b[39m\"\u001b[39m\u001b[39m,\u001b[39m\u001b[39m\"\u001b[39m},\n\u001b[0;32m    677\u001b[0m )\n\u001b[0;32m    678\u001b[0m kwds\u001b[39m.\u001b[39mupdate(kwds_defaults)\n\u001b[1;32m--> 680\u001b[0m \u001b[39mreturn\u001b[39;00m _read(filepath_or_buffer, kwds)\n",
      "File \u001b[1;32mc:\\Users\\domat\\Desktop\\Data Engineering\\car_scraper\\scraper_venv\\lib\\site-packages\\pandas\\io\\parsers\\readers.py:575\u001b[0m, in \u001b[0;36m_read\u001b[1;34m(filepath_or_buffer, kwds)\u001b[0m\n\u001b[0;32m    572\u001b[0m _validate_names(kwds\u001b[39m.\u001b[39mget(\u001b[39m\"\u001b[39m\u001b[39mnames\u001b[39m\u001b[39m\"\u001b[39m, \u001b[39mNone\u001b[39;00m))\n\u001b[0;32m    574\u001b[0m \u001b[39m# Create the parser.\u001b[39;00m\n\u001b[1;32m--> 575\u001b[0m parser \u001b[39m=\u001b[39m TextFileReader(filepath_or_buffer, \u001b[39m*\u001b[39m\u001b[39m*\u001b[39mkwds)\n\u001b[0;32m    577\u001b[0m \u001b[39mif\u001b[39;00m chunksize \u001b[39mor\u001b[39;00m iterator:\n\u001b[0;32m    578\u001b[0m     \u001b[39mreturn\u001b[39;00m parser\n",
      "File \u001b[1;32mc:\\Users\\domat\\Desktop\\Data Engineering\\car_scraper\\scraper_venv\\lib\\site-packages\\pandas\\io\\parsers\\readers.py:933\u001b[0m, in \u001b[0;36mTextFileReader.__init__\u001b[1;34m(self, f, engine, **kwds)\u001b[0m\n\u001b[0;32m    930\u001b[0m     \u001b[39mself\u001b[39m\u001b[39m.\u001b[39moptions[\u001b[39m\"\u001b[39m\u001b[39mhas_index_names\u001b[39m\u001b[39m\"\u001b[39m] \u001b[39m=\u001b[39m kwds[\u001b[39m\"\u001b[39m\u001b[39mhas_index_names\u001b[39m\u001b[39m\"\u001b[39m]\n\u001b[0;32m    932\u001b[0m \u001b[39mself\u001b[39m\u001b[39m.\u001b[39mhandles: IOHandles \u001b[39m|\u001b[39m \u001b[39mNone\u001b[39;00m \u001b[39m=\u001b[39m \u001b[39mNone\u001b[39;00m\n\u001b[1;32m--> 933\u001b[0m \u001b[39mself\u001b[39m\u001b[39m.\u001b[39m_engine \u001b[39m=\u001b[39m \u001b[39mself\u001b[39;49m\u001b[39m.\u001b[39;49m_make_engine(f, \u001b[39mself\u001b[39;49m\u001b[39m.\u001b[39;49mengine)\n",
      "File \u001b[1;32mc:\\Users\\domat\\Desktop\\Data Engineering\\car_scraper\\scraper_venv\\lib\\site-packages\\pandas\\io\\parsers\\readers.py:1235\u001b[0m, in \u001b[0;36mTextFileReader._make_engine\u001b[1;34m(self, f, engine)\u001b[0m\n\u001b[0;32m   1232\u001b[0m     \u001b[39mraise\u001b[39;00m \u001b[39mValueError\u001b[39;00m(msg)\n\u001b[0;32m   1234\u001b[0m \u001b[39mtry\u001b[39;00m:\n\u001b[1;32m-> 1235\u001b[0m     \u001b[39mreturn\u001b[39;00m mapping[engine](f, \u001b[39m*\u001b[39m\u001b[39m*\u001b[39m\u001b[39mself\u001b[39m\u001b[39m.\u001b[39moptions)\n\u001b[0;32m   1236\u001b[0m \u001b[39mexcept\u001b[39;00m \u001b[39mException\u001b[39;00m:\n\u001b[0;32m   1237\u001b[0m     \u001b[39mif\u001b[39;00m \u001b[39mself\u001b[39m\u001b[39m.\u001b[39mhandles \u001b[39mis\u001b[39;00m \u001b[39mnot\u001b[39;00m \u001b[39mNone\u001b[39;00m:\n",
      "File \u001b[1;32mc:\\Users\\domat\\Desktop\\Data Engineering\\car_scraper\\scraper_venv\\lib\\site-packages\\pandas\\io\\parsers\\c_parser_wrapper.py:75\u001b[0m, in \u001b[0;36mCParserWrapper.__init__\u001b[1;34m(self, src, **kwds)\u001b[0m\n\u001b[0;32m     72\u001b[0m     kwds\u001b[39m.\u001b[39mpop(key, \u001b[39mNone\u001b[39;00m)\n\u001b[0;32m     74\u001b[0m kwds[\u001b[39m\"\u001b[39m\u001b[39mdtype\u001b[39m\u001b[39m\"\u001b[39m] \u001b[39m=\u001b[39m ensure_dtype_objs(kwds\u001b[39m.\u001b[39mget(\u001b[39m\"\u001b[39m\u001b[39mdtype\u001b[39m\u001b[39m\"\u001b[39m, \u001b[39mNone\u001b[39;00m))\n\u001b[1;32m---> 75\u001b[0m \u001b[39mself\u001b[39m\u001b[39m.\u001b[39m_reader \u001b[39m=\u001b[39m parsers\u001b[39m.\u001b[39mTextReader(src, \u001b[39m*\u001b[39m\u001b[39m*\u001b[39mkwds)\n\u001b[0;32m     77\u001b[0m \u001b[39mself\u001b[39m\u001b[39m.\u001b[39munnamed_cols \u001b[39m=\u001b[39m \u001b[39mself\u001b[39m\u001b[39m.\u001b[39m_reader\u001b[39m.\u001b[39munnamed_cols\n\u001b[0;32m     79\u001b[0m \u001b[39m# error: Cannot determine type of 'names'\u001b[39;00m\n",
      "File \u001b[1;32mc:\\Users\\domat\\Desktop\\Data Engineering\\car_scraper\\scraper_venv\\lib\\site-packages\\pandas\\_libs\\parsers.pyx:544\u001b[0m, in \u001b[0;36mpandas._libs.parsers.TextReader.__cinit__\u001b[1;34m()\u001b[0m\n",
      "File \u001b[1;32mc:\\Users\\domat\\Desktop\\Data Engineering\\car_scraper\\scraper_venv\\lib\\site-packages\\pandas\\_libs\\parsers.pyx:633\u001b[0m, in \u001b[0;36mpandas._libs.parsers.TextReader._get_header\u001b[1;34m()\u001b[0m\n",
      "File \u001b[1;32mc:\\Users\\domat\\Desktop\\Data Engineering\\car_scraper\\scraper_venv\\lib\\site-packages\\pandas\\_libs\\parsers.pyx:847\u001b[0m, in \u001b[0;36mpandas._libs.parsers.TextReader._tokenize_rows\u001b[1;34m()\u001b[0m\n",
      "File \u001b[1;32mc:\\Users\\domat\\Desktop\\Data Engineering\\car_scraper\\scraper_venv\\lib\\site-packages\\pandas\\_libs\\parsers.pyx:1952\u001b[0m, in \u001b[0;36mpandas._libs.parsers.raise_parser_error\u001b[1;34m()\u001b[0m\n",
      "\u001b[1;31mUnicodeDecodeError\u001b[0m: 'utf-8' codec can't decode byte 0x89 in position 0: invalid start byte"
     ]
    }
   ],
   "source": [
    "import pandas as pd\n",
    "from os import listdir\n",
    "import re\n",
    "\n",
    "def capitalize(make):\n",
    "    \n",
    "    make = re.sub(\"_\", \" \", make)\n",
    "    make = make.split(\" \")\n",
    "    \n",
    "    make = [i.capitalize() for i in make]\n",
    "    \n",
    "    make = \" \".join(make)\n",
    "    \n",
    "    return make\n",
    "\n",
    "def extract_date(name):\n",
    "    return int(re.search(r\"(\\d{4})\", name).group(1))\n",
    "\n",
    "def clean_mileage(miles):\n",
    "    \n",
    "    mileage = re.sub(',', '', miles)\n",
    "    mileage = re.sub(' mi.', '', mileage)\n",
    "    \n",
    "    return int(mileage)\n",
    "\n",
    "def clean_rating_count(rating_count):\n",
    "    \n",
    "    words_to_remove = ['\\(', '\\)', ' reviews', ',', ' review']\n",
    "    \n",
    "    for i in words_to_remove:\n",
    "        rating_count = re.sub(i, '', rating_count)\n",
    "    \n",
    "    return int(rating_count)\n",
    "\n",
    "def clean_price(price):\n",
    "    \n",
    "    price = re.sub(',', '', price)\n",
    "    price = price.strip('$')\n",
    "    \n",
    "    if price == 'Not Priced':\n",
    "        return None\n",
    "    \n",
    "    return int(price)\n",
    "\n",
    "\n",
    "# Aggregating and Cleaning the data\n",
    "\n",
    "files = listdir('data')\n",
    "\n",
    "data_all = []\n",
    "\n",
    "for i in files:\n",
    "\n",
    "    if '.png' in i:\n",
    "        continue\n",
    "\n",
    "    file_path = \"data/{}\".format(i)\n",
    "    \n",
    "    df = pd.read_csv(file_path, on_bad_lines = 'skip')\n",
    "    df['Make'] = i[:-4]\n",
    "    df = df.drop(columns=[\"Unnamed: 0\"])\n",
    "    \n",
    "    data_all.append(df)\n",
    "    \n",
    "df_all = pd.concat(data_all, axis = 0, ignore_index=True)\n",
    "\n",
    "df_transform = df_all.copy()\n",
    "df_transform = df_transform.dropna()\n",
    "\n",
    "df_transform['Make'] = df_all['Make'].apply(lambda x: capitalize(x))\n",
    "df_transform['Name'].apply(lambda x: extract_date(x))\n",
    "df_transform['Year'] = df_all['Name'].apply(lambda x: extract_date(x))\n",
    "df_transform['Mileage'] = df_transform['Mileage'].apply(lambda x: clean_mileage(x))\n",
    "df_transform['Rating Count'] = df_transform['Rating Count'].apply(lambda x: clean_rating_count(x))\n",
    "df_transform['Price'] = df_transform['Price'].apply(lambda x: clean_price(x))\n",
    "\n",
    "df_transform = df_transform.dropna()"
   ]
  },
  {
   "cell_type": "code",
   "execution_count": null,
   "metadata": {},
   "outputs": [
    {
     "ename": "NameError",
     "evalue": "name 'df_transform' is not defined",
     "output_type": "error",
     "traceback": [
      "\u001b[1;31m---------------------------------------------------------------------------\u001b[0m",
      "\u001b[1;31mNameError\u001b[0m                                 Traceback (most recent call last)",
      "\u001b[1;32mc:\\Users\\domat\\Desktop\\Data Engineering\\car_scraper\\batch_upload_to_dynamo.ipynb Cell 7\u001b[0m in \u001b[0;36m<cell line: 1>\u001b[1;34m()\u001b[0m\n\u001b[1;32m----> <a href='vscode-notebook-cell:/c%3A/Users/domat/Desktop/Data%20Engineering/car_scraper/batch_upload_to_dynamo.ipynb#ch0000007?line=0'>1</a>\u001b[0m df_transform\u001b[39m.\u001b[39mhead()\n",
      "\u001b[1;31mNameError\u001b[0m: name 'df_transform' is not defined"
     ]
    }
   ],
   "source": [
    "df_transform.head()"
   ]
  },
  {
   "cell_type": "code",
   "execution_count": null,
   "metadata": {},
   "outputs": [
    {
     "name": "stdout",
     "output_type": "stream",
     "text": [
      "<class 'pandas.core.frame.DataFrame'>\n",
      "Int64Index: 117404 entries, 0 to 119943\n",
      "Data columns (total 8 columns):\n",
      " #   Column        Non-Null Count   Dtype  \n",
      "---  ------        --------------   -----  \n",
      " 0   Name          117404 non-null  object \n",
      " 1   Mileage       117404 non-null  int64  \n",
      " 2   Dealer Name   117404 non-null  object \n",
      " 3   Rating        117404 non-null  float64\n",
      " 4   Rating Count  117404 non-null  int64  \n",
      " 5   Price         117404 non-null  float64\n",
      " 6   Make          117404 non-null  object \n",
      " 7   Year          117404 non-null  int64  \n",
      "dtypes: float64(2), int64(3), object(3)\n",
      "memory usage: 8.1+ MB\n"
     ]
    }
   ],
   "source": [
    "df_transform.info()"
   ]
  },
  {
   "cell_type": "code",
   "execution_count": null,
   "metadata": {},
   "outputs": [
    {
     "data": {
      "text/plain": [
       "'2022-08-06'"
      ]
     },
     "execution_count": 14,
     "metadata": {},
     "output_type": "execute_result"
    }
   ],
   "source": [
    "from datetime import datetime\n",
    "import json\n",
    "from decimal import Decimal\n",
    "\n",
    "today = datetime.now().date().isoformat()\n",
    "today"
   ]
  },
  {
   "cell_type": "code",
   "execution_count": null,
   "metadata": {},
   "outputs": [
    {
     "data": {
      "text/plain": [
       "{'Name': '2020 Acura TLX Technology',\n",
       " 'Mileage': 13214,\n",
       " 'Dealer Name': 'Piazza Acura of Ardmore',\n",
       " 'Rating': Decimal('4.6'),\n",
       " 'Rating Count': 138,\n",
       " 'Price': Decimal('31999.0'),\n",
       " 'Make': 'Acura',\n",
       " 'Year': 2020,\n",
       " 'Date': '2022-08-06'}"
      ]
     },
     "execution_count": 15,
     "metadata": {},
     "output_type": "execute_result"
    }
   ],
   "source": [
    "item = df_transform.iloc[0].to_dict()\n",
    "item['Date'] = today\n",
    "\n",
    "item = json.loads(json.dumps(item), parse_float = Decimal)\n",
    "item"
   ]
  },
  {
   "cell_type": "code",
   "execution_count": null,
   "metadata": {},
   "outputs": [],
   "source": [
    "### Base Syncronous Code"
   ]
  },
  {
   "cell_type": "code",
   "execution_count": null,
   "metadata": {},
   "outputs": [],
   "source": [
    "primary_key = 0 \n",
    "\n",
    "with table.batch_writer() as batch:\n",
    "    \n",
    "    for i, row in df_transform.iterrows():\n",
    "\n",
    "        item = row.to_dict()\n",
    "        item['Date'] = today\n",
    "        item['ID'] = primary_key\n",
    "        primary_key += 1\n",
    "        \n",
    "        item = json.loads(json.dumps(item), parse_float = Decimal)\n",
    "\n",
    "\n",
    "        batch.put_item(\n",
    "            Item = item\n",
    "        )"
   ]
  },
  {
   "cell_type": "code",
   "execution_count": null,
   "metadata": {},
   "outputs": [],
   "source": [
    "scan = table.scan()\n",
    "with table.batch_writer() as batch:\n",
    "    for each in scan['Items']:\n",
    "        batch.delete_item(\n",
    "            Key={\n",
    "                'ID': each['ID']\n",
    "            }\n",
    "        )"
   ]
  }
 ],
 "metadata": {
  "kernelspec": {
   "display_name": "Python 3.9.4 ('scraper_venv': venv)",
   "language": "python",
   "name": "python3"
  },
  "language_info": {
   "codemirror_mode": {
    "name": "ipython",
    "version": 3
   },
   "file_extension": ".py",
   "mimetype": "text/x-python",
   "name": "python",
   "nbconvert_exporter": "python",
   "pygments_lexer": "ipython3",
   "version": "3.9.4"
  },
  "orig_nbformat": 4,
  "vscode": {
   "interpreter": {
    "hash": "a10952e17dd883d6302eac1e036e36dcb3487f19459e2c44250fa5bf9b43a0bf"
   }
  }
 },
 "nbformat": 4,
 "nbformat_minor": 2
}
