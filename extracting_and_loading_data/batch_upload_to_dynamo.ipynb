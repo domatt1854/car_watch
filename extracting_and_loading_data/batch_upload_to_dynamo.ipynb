{
 "cells": [
  {
   "cell_type": "code",
   "execution_count": 4,
   "metadata": {},
   "outputs": [],
   "source": [
    "import boto3\n",
    "import pandas as pd\n",
    "from os import listdir\n",
    "import re"
   ]
  },
  {
   "cell_type": "code",
   "execution_count": 5,
   "metadata": {},
   "outputs": [],
   "source": [
    "table_name = \"car_listings\"\n",
    "\n",
    "client = boto3.client('dynamodb')\n",
    "DB = boto3.resource('dynamodb')\n",
    "table = DB.Table(table_name)"
   ]
  },
  {
   "cell_type": "code",
   "execution_count": 7,
   "metadata": {},
   "outputs": [],
   "source": [
    "def capitalize(make):\n",
    "    \n",
    "    make = re.sub(\"_\", \" \", make)\n",
    "    make = make.split(\" \")\n",
    "    \n",
    "    make = [i.capitalize() for i in make]\n",
    "    \n",
    "    make = \" \".join(make)\n",
    "    \n",
    "    return make\n",
    "\n",
    "def extract_date(name):\n",
    "    return int(re.search(r\"(\\d{4})\", name).group(1))\n",
    "\n",
    "def clean_mileage(miles):\n",
    "    \n",
    "    mileage = re.sub(',', '', miles)\n",
    "    mileage = re.sub(' mi.', '', mileage)\n",
    "    \n",
    "    return int(mileage)\n",
    "\n",
    "def clean_rating_count(rating_count):\n",
    "    \n",
    "    words_to_remove = ['\\(', '\\)', ' reviews', ',', ' review']\n",
    "    \n",
    "    for i in words_to_remove:\n",
    "        rating_count = re.sub(i, '', rating_count)\n",
    "    \n",
    "    return int(rating_count)\n",
    "\n",
    "def clean_price(price):\n",
    "    \n",
    "    price = re.sub(',', '', price)\n",
    "    price = price.strip('$')\n",
    "    \n",
    "    if price == 'Not Priced':\n",
    "        return None\n",
    "    \n",
    "    return int(price)\n",
    "\n",
    "\n",
    "# Aggregating and Cleaning the data\n",
    "\n",
    "files = listdir('data')\n",
    "\n",
    "data_all = []\n",
    "\n",
    "for i in files:\n",
    "\n",
    "    if '.png' in i or '.txt' in i:\n",
    "        continue\n",
    "\n",
    "    file_path = \"data/{}\".format(i)\n",
    "    \n",
    "    df = pd.read_csv(file_path, on_bad_lines = 'skip')\n",
    "    df['Make'] = i[:-4]\n",
    "    df = df.drop(columns=[\"Unnamed: 0\"])\n",
    "    \n",
    "    data_all.append(df)\n",
    "    \n",
    "df_all = pd.concat(data_all, axis = 0, ignore_index=True)\n",
    "\n",
    "df_transform = df_all.copy()\n",
    "df_transform = df_transform.dropna()\n",
    "\n",
    "df_transform['Make'] = df_all['Make'].apply(lambda x: capitalize(x))\n",
    "df_transform['Name'].apply(lambda x: extract_date(x))\n",
    "df_transform['Year'] = df_all['Name'].apply(lambda x: extract_date(x))\n",
    "df_transform['Mileage'] = df_transform['Mileage'].apply(lambda x: clean_mileage(x))\n",
    "df_transform['Rating Count'] = df_transform['Rating Count'].apply(lambda x: clean_rating_count(x))\n",
    "df_transform['Price'] = df_transform['Price'].apply(lambda x: clean_price(x))\n",
    "\n",
    "df_transform = df_transform.dropna()"
   ]
  },
  {
   "cell_type": "code",
   "execution_count": 8,
   "metadata": {},
   "outputs": [
    {
     "data": {
      "text/html": [
       "<div>\n",
       "<style scoped>\n",
       "    .dataframe tbody tr th:only-of-type {\n",
       "        vertical-align: middle;\n",
       "    }\n",
       "\n",
       "    .dataframe tbody tr th {\n",
       "        vertical-align: top;\n",
       "    }\n",
       "\n",
       "    .dataframe thead th {\n",
       "        text-align: right;\n",
       "    }\n",
       "</style>\n",
       "<table border=\"1\" class=\"dataframe\">\n",
       "  <thead>\n",
       "    <tr style=\"text-align: right;\">\n",
       "      <th></th>\n",
       "      <th>Name</th>\n",
       "      <th>Mileage</th>\n",
       "      <th>Dealer Name</th>\n",
       "      <th>Rating</th>\n",
       "      <th>Rating Count</th>\n",
       "      <th>Price</th>\n",
       "      <th>Make</th>\n",
       "      <th>Year</th>\n",
       "    </tr>\n",
       "  </thead>\n",
       "  <tbody>\n",
       "    <tr>\n",
       "      <th>0</th>\n",
       "      <td>2020 Acura TLX FWD</td>\n",
       "      <td>20051</td>\n",
       "      <td>Niello Acura</td>\n",
       "      <td>4.6</td>\n",
       "      <td>132</td>\n",
       "      <td>32568.0</td>\n",
       "      <td>Acura</td>\n",
       "      <td>2020</td>\n",
       "    </tr>\n",
       "    <tr>\n",
       "      <th>1</th>\n",
       "      <td>2022 Acura MDX Technology</td>\n",
       "      <td>19061</td>\n",
       "      <td>Ed Voyles Acura</td>\n",
       "      <td>3.9</td>\n",
       "      <td>86</td>\n",
       "      <td>58991.0</td>\n",
       "      <td>Acura</td>\n",
       "      <td>2022</td>\n",
       "    </tr>\n",
       "    <tr>\n",
       "      <th>2</th>\n",
       "      <td>2020 Acura TLX FWD</td>\n",
       "      <td>30131</td>\n",
       "      <td>Hiley Acura</td>\n",
       "      <td>3.7</td>\n",
       "      <td>61</td>\n",
       "      <td>31445.0</td>\n",
       "      <td>Acura</td>\n",
       "      <td>2020</td>\n",
       "    </tr>\n",
       "    <tr>\n",
       "      <th>3</th>\n",
       "      <td>2019 Acura RDX</td>\n",
       "      <td>12097</td>\n",
       "      <td>Acura of Boston</td>\n",
       "      <td>4.7</td>\n",
       "      <td>600</td>\n",
       "      <td>40595.0</td>\n",
       "      <td>Acura</td>\n",
       "      <td>2019</td>\n",
       "    </tr>\n",
       "    <tr>\n",
       "      <th>4</th>\n",
       "      <td>2021 Acura RDX A-Spec</td>\n",
       "      <td>16250</td>\n",
       "      <td>Fountain Acura</td>\n",
       "      <td>4.4</td>\n",
       "      <td>314</td>\n",
       "      <td>43997.0</td>\n",
       "      <td>Acura</td>\n",
       "      <td>2021</td>\n",
       "    </tr>\n",
       "  </tbody>\n",
       "</table>\n",
       "</div>"
      ],
      "text/plain": [
       "                        Name  Mileage      Dealer Name  Rating  Rating Count  \\\n",
       "0         2020 Acura TLX FWD    20051     Niello Acura     4.6           132   \n",
       "1  2022 Acura MDX Technology    19061  Ed Voyles Acura     3.9            86   \n",
       "2         2020 Acura TLX FWD    30131      Hiley Acura     3.7            61   \n",
       "3            2019 Acura RDX     12097  Acura of Boston     4.7           600   \n",
       "4      2021 Acura RDX A-Spec    16250   Fountain Acura     4.4           314   \n",
       "\n",
       "     Price   Make  Year  \n",
       "0  32568.0  Acura  2020  \n",
       "1  58991.0  Acura  2022  \n",
       "2  31445.0  Acura  2020  \n",
       "3  40595.0  Acura  2019  \n",
       "4  43997.0  Acura  2021  "
      ]
     },
     "execution_count": 8,
     "metadata": {},
     "output_type": "execute_result"
    }
   ],
   "source": [
    "df_transform.head()"
   ]
  },
  {
   "cell_type": "code",
   "execution_count": 9,
   "metadata": {},
   "outputs": [
    {
     "name": "stdout",
     "output_type": "stream",
     "text": [
      "<class 'pandas.core.frame.DataFrame'>\n",
      "Int64Index: 119643 entries, 0 to 122244\n",
      "Data columns (total 8 columns):\n",
      " #   Column        Non-Null Count   Dtype  \n",
      "---  ------        --------------   -----  \n",
      " 0   Name          119643 non-null  object \n",
      " 1   Mileage       119643 non-null  int64  \n",
      " 2   Dealer Name   119643 non-null  object \n",
      " 3   Rating        119643 non-null  float64\n",
      " 4   Rating Count  119643 non-null  int64  \n",
      " 5   Price         119643 non-null  float64\n",
      " 6   Make          119643 non-null  object \n",
      " 7   Year          119643 non-null  int64  \n",
      "dtypes: float64(2), int64(3), object(3)\n",
      "memory usage: 8.2+ MB\n"
     ]
    }
   ],
   "source": [
    "df_transform.info()"
   ]
  },
  {
   "cell_type": "code",
   "execution_count": 10,
   "metadata": {},
   "outputs": [
    {
     "data": {
      "text/plain": [
       "'2022-08-06'"
      ]
     },
     "execution_count": 10,
     "metadata": {},
     "output_type": "execute_result"
    }
   ],
   "source": [
    "from datetime import datetime\n",
    "import json\n",
    "from decimal import Decimal\n",
    "\n",
    "today = datetime.now().date().isoformat()\n",
    "today"
   ]
  },
  {
   "cell_type": "code",
   "execution_count": 11,
   "metadata": {},
   "outputs": [
    {
     "data": {
      "text/plain": [
       "{'Name': '2020 Acura TLX FWD',\n",
       " 'Mileage': 20051,\n",
       " 'Dealer Name': 'Niello Acura',\n",
       " 'Rating': Decimal('4.6'),\n",
       " 'Rating Count': 132,\n",
       " 'Price': Decimal('32568.0'),\n",
       " 'Make': 'Acura',\n",
       " 'Year': 2020,\n",
       " 'Date': '2022-08-06'}"
      ]
     },
     "execution_count": 11,
     "metadata": {},
     "output_type": "execute_result"
    }
   ],
   "source": [
    "item = df_transform.iloc[0].to_dict()\n",
    "item['Date'] = today\n",
    "\n",
    "item = json.loads(json.dumps(item), parse_float = Decimal)\n",
    "item"
   ]
  },
  {
   "cell_type": "markdown",
   "metadata": {},
   "source": [
    "### Uploading Records to DynamoDB\n"
   ]
  },
  {
   "cell_type": "code",
   "execution_count": null,
   "metadata": {},
   "outputs": [],
   "source": [
    "from botocore.exceptions import ValidationError\n",
    "\n",
    "with table.batch_writer() as batch:\n",
    "    \n",
    "\n",
    "    for i, row in df_transform.iterrows():\n",
    "\n",
    "        item = row.to_dict()\n",
    "        item['Date'] = today\n",
    "        item['ID'] = \"{}-{}-{}\".format(row['Name'], row['Price'], row['Mileage'])\n",
    "\n",
    "        \n",
    "        item = json.loads(json.dumps(item), parse_float = Decimal)\n",
    "\n",
    "        try:\n",
    "\n",
    "            batch.put_item(\n",
    "                Item = item\n",
    "            )\n",
    "\n",
    "        except Exception as error:\n",
    "            continue\n",
    "\n",
    "        "
   ]
  }
 ],
 "metadata": {
  "kernelspec": {
   "display_name": "Python 3.9.4 ('scraper_venv': venv)",
   "language": "python",
   "name": "python3"
  },
  "language_info": {
   "codemirror_mode": {
    "name": "ipython",
    "version": 3
   },
   "file_extension": ".py",
   "mimetype": "text/x-python",
   "name": "python",
   "nbconvert_exporter": "python",
   "pygments_lexer": "ipython3",
   "version": "3.9.4"
  },
  "orig_nbformat": 4,
  "vscode": {
   "interpreter": {
    "hash": "a10952e17dd883d6302eac1e036e36dcb3487f19459e2c44250fa5bf9b43a0bf"
   }
  }
 },
 "nbformat": 4,
 "nbformat_minor": 2
}
