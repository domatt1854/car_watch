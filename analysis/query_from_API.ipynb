{
 "cells": [
  {
   "cell_type": "code",
   "execution_count": 2,
   "metadata": {},
   "outputs": [],
   "source": [
    "import requests\n",
    "import json\n",
    "import pandas as pd\n",
    "from datetime import datetime, timedelta\n",
    "import matplotlib.pyplot as plt\n",
    "import seaborn as sns\n",
    "from os import listdir\n",
    "import plotly.express as px\n",
    "import secret\n"
   ]
  },
  {
   "cell_type": "code",
   "execution_count": 2,
   "metadata": {},
   "outputs": [],
   "source": [
    "makes = [\n",
    "    \"acura\",\n",
    "    # \"buick\",\n",
    "    # \"cadillac\",\n",
    "    # \"chevrolet\",\n",
    "    # \"chrysler\",\n",
    "    # \"gmc\",\n",
    "    # \"ford\",\n",
    "    # \"honda\",\n",
    "    # \"infiniti\",\n",
    "    # \"jeep\",\n",
    "    # \"kia\",\n",
    "    # \"mitsubishi\",\n",
    "    # \"nissan\",\n",
    "    # \"porsche\",\n",
    "    # \"ram\",\n",
    "    # \"subaru\",\n",
    "    # \"toyota\",\n",
    "    # \"volkswagen\",\n",
    "    # \"volvo\",\n",
    "    # \"alfa_romeo\",\n",
    "    # \"rolls_royce\",\n",
    "    # \"mini\",\n",
    "    # \"fiat\",\n",
    "    # \"aston_martin\",\n",
    "    # \"maserati\",\n",
    "    # \"bmw\",\n",
    "    # \"mercedes_benz\"\n",
    "]\n"
   ]
  },
  {
   "cell_type": "markdown",
   "metadata": {},
   "source": [
    "### Pulling down from new API"
   ]
  },
  {
   "cell_type": "code",
   "execution_count": 44,
   "metadata": {},
   "outputs": [
    {
     "name": "stdout",
     "output_type": "stream",
     "text": [
      "<class 'pandas.core.frame.DataFrame'>\n",
      "Int64Index: 195 entries, 0 to 25\n",
      "Data columns (total 11 columns):\n",
      " #   Column        Non-Null Count  Dtype         \n",
      "---  ------        --------------  -----         \n",
      " 0   Rating Count  195 non-null    int64         \n",
      " 1   Date          195 non-null    datetime64[ns]\n",
      " 2   Year          195 non-null    object        \n",
      " 3   Mileage       195 non-null    int64         \n",
      " 4   Price         195 non-null    int64         \n",
      " 5   Dealer Name   195 non-null    object        \n",
      " 6   ID            195 non-null    object        \n",
      " 7   Make          195 non-null    object        \n",
      " 8   Rating        195 non-null    float64       \n",
      " 9   Date-Make     195 non-null    object        \n",
      " 10  Name          195 non-null    object        \n",
      "dtypes: datetime64[ns](1), float64(1), int64(3), object(6)\n",
      "memory usage: 18.3+ KB\n"
     ]
    }
   ],
   "source": [
    "def pull_down_weekly_listings() -> pd.DataFrame:\n",
    "    \n",
    "    url = secret.API_URL\n",
    "    payload = \"\"\n",
    "    headers = {\"x-api-key\": secret.API_KEY}\n",
    "    \n",
    "    \n",
    "    \n",
    "    df = pd.DataFrame()\n",
    "    results = []\n",
    "    \n",
    "    \n",
    "    for i in range(7):\n",
    "        \n",
    "        day = (datetime.now() - timedelta(days=i)).date().isoformat()\n",
    "        \n",
    "        for make in makes:\n",
    "    \n",
    "            querystring = {\"make\":make,\"date\":day}\n",
    "\n",
    "\n",
    "            response = requests.request(\"GET\", url, data=payload, headers=headers, params=querystring)\n",
    "\n",
    "            df_temp = pd.read_json(response.text)\n",
    "            \n",
    "            df = pd.concat([df, df_temp])\n",
    "            \n",
    "            \n",
    "\n",
    "    df['Date'] = pd.to_datetime(df['Date'])\n",
    "    df['Year'] = df['Year'].astype(str)\n",
    "    \n",
    "    return df\n",
    "        \n",
    "        \n",
    "        \n",
    "        \n",
    "    \n",
    "    \n",
    "    \n",
    "df = pull_down_weekly_listings()  \n",
    "df.info()  "
   ]
  },
  {
   "cell_type": "code",
   "execution_count": 41,
   "metadata": {},
   "outputs": [
    {
     "data": {
      "text/plain": [
       "2022-08-16    26\n",
       "2022-08-17    34\n",
       "2022-08-18    34\n",
       "2022-08-19    32\n",
       "2022-08-20     7\n",
       "2022-08-21    35\n",
       "2022-08-22    27\n",
       "Name: Date, dtype: int64"
      ]
     },
     "execution_count": 41,
     "metadata": {},
     "output_type": "execute_result"
    }
   ],
   "source": [
    "df['Date'].value_counts().sort_index()"
   ]
  },
  {
   "cell_type": "code",
   "execution_count": 16,
   "metadata": {},
   "outputs": [
    {
     "data": {
      "text/plain": [
       "0     1970\n",
       "1     1970\n",
       "2     1970\n",
       "3     1970\n",
       "4     1970\n",
       "      ... \n",
       "21    1970\n",
       "22    1970\n",
       "23    1970\n",
       "24    1970\n",
       "25    1970\n",
       "Name: Year, Length: 195, dtype: int64"
      ]
     },
     "execution_count": 16,
     "metadata": {},
     "output_type": "execute_result"
    }
   ],
   "source": [
    "df['Year'].dt.year"
   ]
  },
  {
   "cell_type": "code",
   "execution_count": 42,
   "metadata": {},
   "outputs": [
    {
     "data": {
      "text/plain": [
       "2020 Acura MDX 3.5L w/Technology Package              20\n",
       "2020 Acura RDX Technology Package                     15\n",
       "2020 Acura MDX 3.5L                                   14\n",
       "2019 Acura MDX 3.5L w/Technology Package              12\n",
       "2020 Acura TLX FWD                                    11\n",
       "2020 Acura RDX Base                                   10\n",
       "2019 Acura RDX Technology Package                     10\n",
       "2021 Acura RDX Technology Package                      9\n",
       "2019 Acura MDX 3.5L                                    8\n",
       "2019 Acura RDX Base                                    7\n",
       "2020 Acura RDX A-Spec                                  7\n",
       "2020 Acura TLX V6 w/Technology Package                 6\n",
       "2020 Acura RDX Advance Package                         6\n",
       "2021 Acura TLX Technology                              5\n",
       "2022 Acura MDX A-Spec                                  5\n",
       "2022 Acura MDX Type S                                  3\n",
       "2018 Acura MDX 3.5L w/Technology Package               3\n",
       "2019 Acura RDX Base (A10)                              2\n",
       "2019 Acura MDX 3.5L w/Advance & Entertainment Pkgs     2\n",
       "2020 Acura TLX Technology                              2\n",
       "2019 Acura RDX                                         2\n",
       "2021 Acura TLX A-Spec                                  2\n",
       "2022 Acura MDX Advance                                 2\n",
       "2021 Acura RDX Base                                    2\n",
       "2017 Acura MDX 3.5L w/Technology Package               2\n",
       "2021 Acura TLX w/Advance Package                       2\n",
       "2021 Acura RDX A-Spec                                  2\n",
       "2019 Acura MDX 3.5L Technology & A-Spec Pkgs           2\n",
       "2022 Acura TLX A-Spec                                  2\n",
       "2019 Acura ILX Premium Package                         2\n",
       "2020 Acura TLX V6                                      2\n",
       "2021 Acura TLX Base                                    1\n",
       "2018 Acura TLX Technology                              1\n",
       "2022 Acura MDX Base                                    1\n",
       "2020 Acura RDX Technology                              1\n",
       "2019 Acura RDX Advance Package                         1\n",
       "2018 Acura TLX V6 A-Spec                               1\n",
       "2020 Acura ILX Premium Package                         1\n",
       "2019 Acura TLX FWD                                     1\n",
       "2018 Acura TLX FWD                                     1\n",
       "2021 Acura TLX Tech                                    1\n",
       "2017 Acura MDX 3.5L w/Advance Package                  1\n",
       "2022 Acura MDX w/Advance Package                       1\n",
       "2022 Acura MDX w/A-Spec Package                        1\n",
       "2016 Acura TLX V6 Tech                                 1\n",
       "2022 Acura MDX Technology                              1\n",
       "2021 Acura ILX Premium Package                         1\n",
       "Name: Name, dtype: int64"
      ]
     },
     "execution_count": 42,
     "metadata": {},
     "output_type": "execute_result"
    }
   ],
   "source": [
    "df['Name'].value_counts()"
   ]
  },
  {
   "cell_type": "markdown",
   "metadata": {},
   "source": [
    "## Viz #1 : Scatterplot of Year vs Price, then when you hover over it, you can see what kind of listing it is"
   ]
  },
  {
   "cell_type": "code",
   "execution_count": 43,
   "metadata": {},
   "outputs": [
    {
     "data": {
      "text/plain": [
       "<AxesSubplot:xlabel='Mileage', ylabel='Price'>"
      ]
     },
     "execution_count": 43,
     "metadata": {},
     "output_type": "execute_result"
    },
    {
     "data": {
      "image/png": "[encoded data removed]",
      "text/plain": [
       "<Figure size 432x288 with 1 Axes>"
      ]
     },
     "metadata": {
      "needs_background": "light"
     },
     "output_type": "display_data"
    }
   ],
   "source": [
    "sns.scatterplot(data = df, x = 'Mileage', y = 'Price', hue = 'Year')"
   ]
  },
  {
   "cell_type": "markdown",
   "metadata": {},
   "source": [
    "### Replicating it in plotly"
   ]
  },
  {
   "cell_type": "code",
   "execution_count": 26,
   "metadata": {},
   "outputs": [
    {
     "data": {
      "application/vnd.plotly.v1+json": {
       "config": {
        "plotlyServerURL": "https://plot.ly"
       },
       "data": [
        {
         "customdata": [
          [
           "2016 Acura TLX V6 Tech"
          ]
         ],
         "hovertemplate": "Year=2016<br>Mileage=%{x}<br>Price=%{y}<br>Name=%{customdata[0]}<extra></extra>",
         "legendgroup": "2016",
         "marker": {
          "color": "#636efa",
          "symbol": "circle"
         },
         "mode": "markers",
         "name": "2016",
         "orientation": "v",
         "showlegend": true,
         "type": "scatter",
         "x": [
          88417
         ],
         "xaxis": "x",
         "y": [
          23115
         ],
         "yaxis": "y"
        },
        {
         "customdata": [
          [
           "2017 Acura MDX 3.5L w/Technology Package"
          ],
          [
           "2017 Acura MDX 3.5L w/Advance Package"
          ],
          [
           "2017 Acura MDX 3.5L w/Technology Package"
          ]
         ],
         "hovertemplate": "Year=2017<br>Mileage=%{x}<br>Price=%{y}<br>Name=%{customdata[0]}<extra></extra>",
         "legendgroup": "2017",
         "marker": {
          "color": "#EF553B",
          "symbol": "circle"
         },
         "mode": "markers",
         "name": "2017",
         "orientation": "v",
         "showlegend": true,
         "type": "scatter",
         "x": [
          48766,
          47924,
          44371
         ],
         "xaxis": "x",
         "y": [
          33991,
          38488,
          34591
         ],
         "yaxis": "y"
        },
        {
         "customdata": [
          [
           "2018 Acura MDX 3.5L w/Technology Package"
          ],
          [
           "2018 Acura TLX Technology"
          ],
          [
           "2018 Acura TLX V6 A-Spec"
          ],
          [
           "2018 Acura MDX 3.5L w/Technology Package"
          ],
          [
           "2018 Acura TLX FWD"
          ],
          [
           "2018 Acura MDX 3.5L w/Technology Package"
          ]
         ],
         "hovertemplate": "Year=2018<br>Mileage=%{x}<br>Price=%{y}<br>Name=%{customdata[0]}<extra></extra>",
         "legendgroup": "2018",
         "marker": {
          "color": "#00cc96",
          "symbol": "circle"
         },
         "mode": "markers",
         "name": "2018",
         "orientation": "v",
         "showlegend": true,
         "type": "scatter",
         "x": [
          54819,
          33713,
          37073,
          44387,
          47341,
          44387
         ],
         "xaxis": "x",
         "y": [
          37816,
          27410,
          33458,
          39807,
          27974,
          38394
         ],
         "yaxis": "y"
        },
        {
         "customdata": [
          [
           "2019 Acura TLX FWD"
          ],
          [
           "2019 Acura MDX 3.5L w/Technology Package"
          ],
          [
           "2019 Acura MDX 3.5L w/Advance & Entertainment Pkgs"
          ],
          [
           "2019 Acura MDX 3.5L Technology & A-Spec Pkgs"
          ],
          [
           "2019 Acura MDX 3.5L"
          ],
          [
           "2019 Acura MDX 3.5L"
          ],
          [
           "2019 Acura MDX 3.5L Technology & A-Spec Pkgs"
          ],
          [
           "2019 Acura MDX 3.5L"
          ],
          [
           "2019 Acura RDX Base"
          ],
          [
           "2019 Acura RDX Base (A10)"
          ],
          [
           "2019 Acura RDX "
          ],
          [
           "2019 Acura MDX 3.5L w/Technology Package"
          ],
          [
           "2019 Acura RDX Base"
          ],
          [
           "2019 Acura MDX 3.5L w/Advance & Entertainment Pkgs"
          ],
          [
           "2019 Acura MDX 3.5L"
          ],
          [
           "2019 Acura ILX Premium Package"
          ],
          [
           "2019 Acura RDX Technology Package"
          ],
          [
           "2019 Acura RDX Base"
          ],
          [
           "2019 Acura RDX Technology Package"
          ],
          [
           "2019 Acura RDX Technology Package"
          ],
          [
           "2019 Acura RDX "
          ],
          [
           "2019 Acura MDX 3.5L"
          ],
          [
           "2019 Acura RDX Base"
          ],
          [
           "2019 Acura RDX Technology Package"
          ],
          [
           "2019 Acura RDX Technology Package"
          ],
          [
           "2019 Acura RDX Technology Package"
          ],
          [
           "2019 Acura MDX 3.5L w/Technology Package"
          ],
          [
           "2019 Acura MDX 3.5L w/Technology Package"
          ],
          [
           "2019 Acura MDX 3.5L w/Technology Package"
          ],
          [
           "2019 Acura MDX 3.5L w/Technology Package"
          ],
          [
           "2019 Acura RDX Base"
          ],
          [
           "2019 Acura MDX 3.5L w/Technology Package"
          ],
          [
           "2019 Acura MDX 3.5L"
          ],
          [
           "2019 Acura MDX 3.5L"
          ],
          [
           "2019 Acura MDX 3.5L"
          ],
          [
           "2019 Acura MDX 3.5L w/Technology Package"
          ],
          [
           "2019 Acura RDX Technology Package"
          ],
          [
           "2019 Acura MDX 3.5L w/Technology Package"
          ],
          [
           "2019 Acura RDX Base (A10)"
          ],
          [
           "2019 Acura RDX Technology Package"
          ],
          [
           "2019 Acura RDX Technology Package"
          ],
          [
           "2019 Acura RDX Base"
          ],
          [
           "2019 Acura RDX Base"
          ],
          [
           "2019 Acura MDX 3.5L w/Technology Package"
          ],
          [
           "2019 Acura MDX 3.5L w/Technology Package"
          ],
          [
           "2019 Acura RDX Technology Package"
          ],
          [
           "2019 Acura ILX Premium Package"
          ],
          [
           "2019 Acura MDX 3.5L w/Technology Package"
          ],
          [
           "2019 Acura RDX Advance Package"
          ]
         ],
         "hovertemplate": "Year=2019<br>Mileage=%{x}<br>Price=%{y}<br>Name=%{customdata[0]}<extra></extra>",
         "legendgroup": "2019",
         "marker": {
          "color": "#ab63fa",
          "symbol": "circle"
         },
         "mode": "markers",
         "name": "2019",
         "orientation": "v",
         "showlegend": true,
         "type": "scatter",
         "x": [
          32736,
          31279,
          35319,
          30905,
          19824,
          34347,
          48929,
          29279,
          33258,
          12440,
          21700,
          28768,
          30377,
          46639,
          48147,
          10236,
          52340,
          10168,
          47573,
          41866,
          12440,
          48147,
          36930,
          22496,
          41866,
          47501,
          22104,
          34535,
          43907,
          58915,
          14140,
          30948,
          45588,
          39370,
          11232,
          82142,
          31753,
          31457,
          21700,
          14906,
          47501,
          19388,
          44355,
          34535,
          27107,
          31519,
          10235,
          82142,
          15299
         ],
         "xaxis": "x",
         "y": [
          31999,
          36995,
          43994,
          45244,
          39865,
          36549,
          42828,
          38200,
          35988,
          38534,
          37364,
          40496,
          34600,
          41912,
          36715,
          29377,
          38238,
          39500,
          34980,
          35980,
          38534,
          36062,
          36585,
          39420,
          36480,
          36987,
          41495,
          39499,
          39208,
          35600,
          39998,
          39257,
          33995,
          35000,
          40823,
          34928,
          36990,
          41495,
          37364,
          40457,
          37285,
          36895,
          36657,
          38553,
          37850,
          39355,
          29377,
          34210,
          44019
         ],
         "yaxis": "y"
        },
        {
         "customdata": [
          [
           "2020 Acura MDX 3.5L"
          ],
          [
           "2020 Acura RDX Base"
          ],
          [
           "2020 Acura MDX 3.5L"
          ],
          [
           "2020 Acura TLX V6 w/Technology Package"
          ],
          [
           "2020 Acura TLX FWD"
          ],
          [
           "2020 Acura TLX FWD"
          ],
          [
           "2020 Acura RDX Base"
          ],
          [
           "2020 Acura RDX Base"
          ],
          [
           "2020 Acura RDX Advance Package"
          ],
          [
           "2020 Acura RDX Advance Package"
          ],
          [
           "2020 Acura RDX Advance Package"
          ],
          [
           "2020 Acura RDX Advance Package"
          ],
          [
           "2020 Acura RDX A-Spec"
          ],
          [
           "2020 Acura RDX A-Spec"
          ],
          [
           "2020 Acura MDX 3.5L w/Technology Package"
          ],
          [
           "2020 Acura MDX 3.5L w/Technology Package"
          ],
          [
           "2020 Acura MDX 3.5L w/Technology Package"
          ],
          [
           "2020 Acura MDX 3.5L w/Technology Package"
          ],
          [
           "2020 Acura MDX 3.5L w/Technology Package"
          ],
          [
           "2020 Acura MDX 3.5L w/Technology Package"
          ],
          [
           "2020 Acura MDX 3.5L"
          ],
          [
           "2020 Acura MDX 3.5L"
          ],
          [
           "2020 Acura MDX 3.5L w/Technology Package"
          ],
          [
           "2020 Acura MDX 3.5L w/Technology Package"
          ],
          [
           "2020 Acura MDX 3.5L w/Technology Package"
          ],
          [
           "2020 Acura MDX 3.5L w/Technology Package"
          ],
          [
           "2020 Acura MDX 3.5L"
          ],
          [
           "2020 Acura RDX A-Spec"
          ],
          [
           "2020 Acura RDX Base"
          ],
          [
           "2020 Acura RDX Base"
          ],
          [
           "2020 Acura RDX Technology"
          ],
          [
           "2020 Acura RDX Technology Package"
          ],
          [
           "2020 Acura TLX V6 w/Technology Package"
          ],
          [
           "2020 Acura TLX V6 w/Technology Package"
          ],
          [
           "2020 Acura RDX Advance Package"
          ],
          [
           "2020 Acura TLX Technology"
          ],
          [
           "2020 Acura MDX 3.5L"
          ],
          [
           "2020 Acura TLX FWD"
          ],
          [
           "2020 Acura RDX Technology Package"
          ],
          [
           "2020 Acura TLX Technology"
          ],
          [
           "2020 Acura RDX Technology Package"
          ],
          [
           "2020 Acura RDX Technology Package"
          ],
          [
           "2020 Acura RDX Technology Package"
          ],
          [
           "2020 Acura RDX Technology Package"
          ],
          [
           "2020 Acura RDX Base"
          ],
          [
           "2020 Acura RDX Base"
          ],
          [
           "2020 Acura RDX Base"
          ],
          [
           "2020 Acura RDX A-Spec"
          ],
          [
           "2020 Acura MDX 3.5L w/Technology Package"
          ],
          [
           "2020 Acura MDX 3.5L"
          ],
          [
           "2020 Acura TLX FWD"
          ],
          [
           "2020 Acura MDX 3.5L"
          ],
          [
           "2020 Acura TLX FWD"
          ],
          [
           "2020 Acura TLX FWD"
          ],
          [
           "2020 Acura RDX Technology Package"
          ],
          [
           "2020 Acura RDX Base"
          ],
          [
           "2020 Acura RDX Base"
          ],
          [
           "2020 Acura RDX Advance Package"
          ],
          [
           "2020 Acura RDX A-Spec"
          ],
          [
           "2020 Acura MDX 3.5L w/Technology Package"
          ],
          [
           "2020 Acura MDX 3.5L w/Technology Package"
          ],
          [
           "2020 Acura MDX 3.5L w/Technology Package"
          ],
          [
           "2020 Acura MDX 3.5L w/Technology Package"
          ],
          [
           "2020 Acura MDX 3.5L"
          ],
          [
           "2020 Acura TLX V6"
          ],
          [
           "2020 Acura TLX FWD"
          ],
          [
           "2020 Acura RDX Technology Package"
          ],
          [
           "2020 Acura TLX V6 w/Technology Package"
          ],
          [
           "2020 Acura MDX 3.5L w/Technology Package"
          ],
          [
           "2020 Acura MDX 3.5L"
          ],
          [
           "2020 Acura MDX 3.5L"
          ],
          [
           "2020 Acura MDX 3.5L"
          ],
          [
           "2020 Acura RDX Technology Package"
          ],
          [
           "2020 Acura ILX Premium Package"
          ],
          [
           "2020 Acura RDX Technology Package"
          ],
          [
           "2020 Acura RDX Technology Package"
          ],
          [
           "2020 Acura TLX FWD"
          ],
          [
           "2020 Acura TLX FWD"
          ],
          [
           "2020 Acura TLX V6 w/Technology Package"
          ],
          [
           "2020 Acura RDX A-Spec"
          ],
          [
           "2020 Acura MDX 3.5L w/Technology Package"
          ],
          [
           "2020 Acura MDX 3.5L w/Technology Package"
          ],
          [
           "2020 Acura MDX 3.5L"
          ],
          [
           "2020 Acura MDX 3.5L w/Technology Package"
          ],
          [
           "2020 Acura MDX 3.5L w/Technology Package"
          ],
          [
           "2020 Acura RDX Technology Package"
          ],
          [
           "2020 Acura TLX FWD"
          ],
          [
           "2020 Acura RDX Technology Package"
          ],
          [
           "2020 Acura RDX Technology Package"
          ],
          [
           "2020 Acura RDX Technology Package"
          ],
          [
           "2020 Acura TLX FWD"
          ],
          [
           "2020 Acura TLX V6"
          ],
          [
           "2020 Acura TLX V6 w/Technology Package"
          ],
          [
           "2020 Acura MDX 3.5L"
          ],
          [
           "2020 Acura RDX A-Spec"
          ]
         ],
         "hovertemplate": "Year=2020<br>Mileage=%{x}<br>Price=%{y}<br>Name=%{customdata[0]}<extra></extra>",
         "legendgroup": "2020",
         "marker": {
          "color": "#FFA15A",
          "symbol": "circle"
         },
         "mode": "markers",
         "name": "2020",
         "orientation": "v",
         "showlegend": true,
         "type": "scatter",
         "x": [
          11968,
          45822,
          11961,
          15262,
          43782,
          14885,
          23149,
          34760,
          24534,
          16083,
          36391,
          47473,
          8445,
          29378,
          30203,
          32929,
          31388,
          32909,
          16070,
          30131,
          31354,
          12488,
          31388,
          25891,
          14404,
          41470,
          33057,
          26826,
          56635,
          23149,
          35130,
          31773,
          23759,
          17555,
          24534,
          17440,
          32127,
          27947,
          29982,
          29963,
          23872,
          24941,
          37909,
          49250,
          35900,
          30202,
          67302,
          57211,
          32931,
          17697,
          48674,
          43838,
          13806,
          31464,
          11602,
          12383,
          30050,
          24534,
          17541,
          19958,
          53801,
          30772,
          24995,
          43650,
          34893,
          27243,
          24963,
          30382,
          32929,
          24140,
          31725,
          31601,
          54550,
          19134,
          24941,
          24963,
          27947,
          27798,
          22323,
          38565,
          7140,
          12785,
          33057,
          53801,
          30494,
          30917,
          21350,
          23438,
          24654,
          33702,
          30131,
          43096,
          17255,
          42810,
          38560
         ],
         "xaxis": "x",
         "y": [
          37995,
          39241,
          40795,
          33797,
          29839,
          27998,
          37900,
          36363,
          42486,
          42462,
          40699,
          39935,
          43598,
          41995,
          43986,
          43699,
          43600,
          43170,
          42994,
          41986,
          40989,
          41295,
          43500,
          44986,
          44997,
          45990,
          38899,
          44995,
          34825,
          37899,
          39952,
          42399,
          34994,
          39883,
          41997,
          34591,
          37500,
          31968,
          42786,
          31647,
          39500,
          39275,
          37392,
          36500,
          38490,
          37995,
          35801,
          39126,
          43500,
          39000,
          30298,
          38950,
          34990,
          31987,
          40703,
          37495,
          35000,
          41985,
          43774,
          45998,
          42980,
          42340,
          42200,
          36926,
          30856,
          31385,
          40376,
          35230,
          43500,
          40980,
          37980,
          37655,
          36947,
          28496,
          39898,
          40749,
          31469,
          28997,
          33994,
          41691,
          44451,
          42222,
          38900,
          42644,
          43982,
          38990,
          29997,
          38991,
          40595,
          40999,
          31693,
          31497,
          34977,
          36870,
          41691
         ],
         "yaxis": "y"
        },
        {
         "customdata": [
          [
           "2021 Acura RDX Technology Package"
          ],
          [
           "2021 Acura TLX Base"
          ],
          [
           "2021 Acura TLX w/Advance Package"
          ],
          [
           "2021 Acura TLX Technology"
          ],
          [
           "2021 Acura TLX A-Spec"
          ],
          [
           "2021 Acura TLX Technology"
          ],
          [
           "2021 Acura TLX Technology"
          ],
          [
           "2021 Acura RDX Technology Package"
          ],
          [
           "2021 Acura RDX Technology Package"
          ],
          [
           "2021 Acura TLX A-Spec"
          ],
          [
           "2021 Acura RDX Base"
          ],
          [
           "2021 Acura RDX Technology Package"
          ],
          [
           "2021 Acura RDX Technology Package"
          ],
          [
           "2021 Acura RDX Technology Package"
          ],
          [
           "2021 Acura RDX Technology Package"
          ],
          [
           "2021 Acura RDX A-Spec"
          ],
          [
           "2021 Acura TLX w/Advance Package"
          ],
          [
           "2021 Acura RDX A-Spec"
          ],
          [
           "2021 Acura ILX Premium Package"
          ],
          [
           "2021 Acura RDX Technology Package"
          ],
          [
           "2021 Acura RDX Technology Package"
          ],
          [
           "2021 Acura TLX Technology"
          ],
          [
           "2021 Acura TLX Tech"
          ],
          [
           "2021 Acura RDX Base"
          ],
          [
           "2021 Acura TLX Technology"
          ]
         ],
         "hovertemplate": "Year=2021<br>Mileage=%{x}<br>Price=%{y}<br>Name=%{customdata[0]}<extra></extra>",
         "legendgroup": "2021",
         "marker": {
          "color": "#19d3f3",
          "symbol": "circle"
         },
         "mode": "markers",
         "name": "2021",
         "orientation": "v",
         "showlegend": true,
         "type": "scatter",
         "x": [
          12344,
          24574,
          7346,
          14869,
          21155,
          14903,
          12442,
          17278,
          19044,
          10747,
          21428,
          12462,
          16993,
          29525,
          23587,
          39698,
          6839,
          39698,
          10549,
          14129,
          11369,
          7936,
          13599,
          29678,
          10248
         ],
         "xaxis": "x",
         "y": [
          45849,
          37995,
          42433,
          43991,
          41856,
          40495,
          41895,
          44417,
          43999,
          46990,
          41791,
          42959,
          43988,
          41698,
          41550,
          45892,
          42554,
          46585,
          32585,
          46369,
          46573,
          40695,
          43999,
          39996,
          43491
         ],
         "yaxis": "y"
        },
        {
         "customdata": [
          [
           "2022 Acura TLX A-Spec"
          ],
          [
           "2022 Acura MDX w/Advance Package"
          ],
          [
           "2022 Acura MDX A-Spec"
          ],
          [
           "2022 Acura MDX Type S"
          ],
          [
           "2022 Acura MDX Advance"
          ],
          [
           "2022 Acura MDX Technology"
          ],
          [
           "2022 Acura MDX Type S"
          ],
          [
           "2022 Acura MDX w/A-Spec Package"
          ],
          [
           "2022 Acura MDX A-Spec"
          ],
          [
           "2022 Acura MDX A-Spec"
          ],
          [
           "2022 Acura MDX Type S"
          ],
          [
           "2022 Acura MDX Base"
          ],
          [
           "2022 Acura MDX A-Spec"
          ],
          [
           "2022 Acura MDX Advance"
          ],
          [
           "2022 Acura MDX A-Spec"
          ],
          [
           "2022 Acura TLX A-Spec"
          ]
         ],
         "hovertemplate": "Year=2022<br>Mileage=%{x}<br>Price=%{y}<br>Name=%{customdata[0]}<extra></extra>",
         "legendgroup": "2022",
         "marker": {
          "color": "#FF6692",
          "symbol": "circle"
         },
         "mode": "markers",
         "name": "2022",
         "orientation": "v",
         "showlegend": true,
         "type": "scatter",
         "x": [
          5045,
          28005,
          3583,
          3132,
          30550,
          21072,
          12367,
          10772,
          11173,
          6526,
          1876,
          14675,
          11532,
          18337,
          11173,
          5044
         ],
         "xaxis": "x",
         "y": [
          45513,
          59987,
          59997,
          68000,
          60000,
          53898,
          69981,
          59323,
          60777,
          61589,
          68000,
          46823,
          55495,
          60698,
          60220,
          45259
         ],
         "yaxis": "y"
        }
       ],
       "layout": {
        "legend": {
         "title": {
          "text": "Year"
         },
         "tracegroupgap": 0
        },
        "margin": {
         "t": 60
        },
        "template": {
         "data": {
          "bar": [
           {
            "error_x": {
             "color": "#2a3f5f"
            },
            "error_y": {
             "color": "#2a3f5f"
            },
            "marker": {
             "line": {
              "color": "#E5ECF6",
              "width": 0.5
             },
             "pattern": {
              "fillmode": "overlay",
              "size": 10,
              "solidity": 0.2
             }
            },
            "type": "bar"
           }
          ],
          "barpolar": [
           {
            "marker": {
             "line": {
              "color": "#E5ECF6",
              "width": 0.5
             },
             "pattern": {
              "fillmode": "overlay",
              "size": 10,
              "solidity": 0.2
             }
            },
            "type": "barpolar"
           }
          ],
          "carpet": [
           {
            "aaxis": {
             "endlinecolor": "#2a3f5f",
             "gridcolor": "white",
             "linecolor": "white",
             "minorgridcolor": "white",
             "startlinecolor": "#2a3f5f"
            },
            "baxis": {
             "endlinecolor": "#2a3f5f",
             "gridcolor": "white",
             "linecolor": "white",
             "minorgridcolor": "white",
             "startlinecolor": "#2a3f5f"
            },
            "type": "carpet"
           }
          ],
          "choropleth": [
           {
            "colorbar": {
             "outlinewidth": 0,
             "ticks": ""
            },
            "type": "choropleth"
           }
          ],
          "contour": [
           {
            "colorbar": {
             "outlinewidth": 0,
             "ticks": ""
            },
            "colorscale": [
             [
              0,
              "#0d0887"
             ],
             [
              0.1111111111111111,
              "#46039f"
             ],
             [
              0.2222222222222222,
              "#7201a8"
             ],
             [
              0.3333333333333333,
              "#9c179e"
             ],
             [
              0.4444444444444444,
              "#bd3786"
             ],
             [
              0.5555555555555556,
              "#d8576b"
             ],
             [
              0.6666666666666666,
              "#ed7953"
             ],
             [
              0.7777777777777778,
              "#fb9f3a"
             ],
             [
              0.8888888888888888,
              "#fdca26"
             ],
             [
              1,
              "#f0f921"
             ]
            ],
            "type": "contour"
           }
          ],
          "contourcarpet": [
           {
            "colorbar": {
             "outlinewidth": 0,
             "ticks": ""
            },
            "type": "contourcarpet"
           }
          ],
          "heatmap": [
           {
            "colorbar": {
             "outlinewidth": 0,
             "ticks": ""
            },
            "colorscale": [
             [
              0,
              "#0d0887"
             ],
             [
              0.1111111111111111,
              "#46039f"
             ],
             [
              0.2222222222222222,
              "#7201a8"
             ],
             [
              0.3333333333333333,
              "#9c179e"
             ],
             [
              0.4444444444444444,
              "#bd3786"
             ],
             [
              0.5555555555555556,
              "#d8576b"
             ],
             [
              0.6666666666666666,
              "#ed7953"
             ],
             [
              0.7777777777777778,
              "#fb9f3a"
             ],
             [
              0.8888888888888888,
              "#fdca26"
             ],
             [
              1,
              "#f0f921"
             ]
            ],
            "type": "heatmap"
           }
          ],
          "heatmapgl": [
           {
            "colorbar": {
             "outlinewidth": 0,
             "ticks": ""
            },
            "colorscale": [
             [
              0,
              "#0d0887"
             ],
             [
              0.1111111111111111,
              "#46039f"
             ],
             [
              0.2222222222222222,
              "#7201a8"
             ],
             [
              0.3333333333333333,
              "#9c179e"
             ],
             [
              0.4444444444444444,
              "#bd3786"
             ],
             [
              0.5555555555555556,
              "#d8576b"
             ],
             [
              0.6666666666666666,
              "#ed7953"
             ],
             [
              0.7777777777777778,
              "#fb9f3a"
             ],
             [
              0.8888888888888888,
              "#fdca26"
             ],
             [
              1,
              "#f0f921"
             ]
            ],
            "type": "heatmapgl"
           }
          ],
          "histogram": [
           {
            "marker": {
             "pattern": {
              "fillmode": "overlay",
              "size": 10,
              "solidity": 0.2
             }
            },
            "type": "histogram"
           }
          ],
          "histogram2d": [
           {
            "colorbar": {
             "outlinewidth": 0,
             "ticks": ""
            },
            "colorscale": [
             [
              0,
              "#0d0887"
             ],
             [
              0.1111111111111111,
              "#46039f"
             ],
             [
              0.2222222222222222,
              "#7201a8"
             ],
             [
              0.3333333333333333,
              "#9c179e"
             ],
             [
              0.4444444444444444,
              "#bd3786"
             ],
             [
              0.5555555555555556,
              "#d8576b"
             ],
             [
              0.6666666666666666,
              "#ed7953"
             ],
             [
              0.7777777777777778,
              "#fb9f3a"
             ],
             [
              0.8888888888888888,
              "#fdca26"
             ],
             [
              1,
              "#f0f921"
             ]
            ],
            "type": "histogram2d"
           }
          ],
          "histogram2dcontour": [
           {
            "colorbar": {
             "outlinewidth": 0,
             "ticks": ""
            },
            "colorscale": [
             [
              0,
              "#0d0887"
             ],
             [
              0.1111111111111111,
              "#46039f"
             ],
             [
              0.2222222222222222,
              "#7201a8"
             ],
             [
              0.3333333333333333,
              "#9c179e"
             ],
             [
              0.4444444444444444,
              "#bd3786"
             ],
             [
              0.5555555555555556,
              "#d8576b"
             ],
             [
              0.6666666666666666,
              "#ed7953"
             ],
             [
              0.7777777777777778,
              "#fb9f3a"
             ],
             [
              0.8888888888888888,
              "#fdca26"
             ],
             [
              1,
              "#f0f921"
             ]
            ],
            "type": "histogram2dcontour"
           }
          ],
          "mesh3d": [
           {
            "colorbar": {
             "outlinewidth": 0,
             "ticks": ""
            },
            "type": "mesh3d"
           }
          ],
          "parcoords": [
           {
            "line": {
             "colorbar": {
              "outlinewidth": 0,
              "ticks": ""
             }
            },
            "type": "parcoords"
           }
          ],
          "pie": [
           {
            "automargin": true,
            "type": "pie"
           }
          ],
          "scatter": [
           {
            "fillpattern": {
             "fillmode": "overlay",
             "size": 10,
             "solidity": 0.2
            },
            "type": "scatter"
           }
          ],
          "scatter3d": [
           {
            "line": {
             "colorbar": {
              "outlinewidth": 0,
              "ticks": ""
             }
            },
            "marker": {
             "colorbar": {
              "outlinewidth": 0,
              "ticks": ""
             }
            },
            "type": "scatter3d"
           }
          ],
          "scattercarpet": [
           {
            "marker": {
             "colorbar": {
              "outlinewidth": 0,
              "ticks": ""
             }
            },
            "type": "scattercarpet"
           }
          ],
          "scattergeo": [
           {
            "marker": {
             "colorbar": {
              "outlinewidth": 0,
              "ticks": ""
             }
            },
            "type": "scattergeo"
           }
          ],
          "scattergl": [
           {
            "marker": {
             "colorbar": {
              "outlinewidth": 0,
              "ticks": ""
             }
            },
            "type": "scattergl"
           }
          ],
          "scattermapbox": [
           {
            "marker": {
             "colorbar": {
              "outlinewidth": 0,
              "ticks": ""
             }
            },
            "type": "scattermapbox"
           }
          ],
          "scatterpolar": [
           {
            "marker": {
             "colorbar": {
              "outlinewidth": 0,
              "ticks": ""
             }
            },
            "type": "scatterpolar"
           }
          ],
          "scatterpolargl": [
           {
            "marker": {
             "colorbar": {
              "outlinewidth": 0,
              "ticks": ""
             }
            },
            "type": "scatterpolargl"
           }
          ],
          "scatterternary": [
           {
            "marker": {
             "colorbar": {
              "outlinewidth": 0,
              "ticks": ""
             }
            },
            "type": "scatterternary"
           }
          ],
          "surface": [
           {
            "colorbar": {
             "outlinewidth": 0,
             "ticks": ""
            },
            "colorscale": [
             [
              0,
              "#0d0887"
             ],
             [
              0.1111111111111111,
              "#46039f"
             ],
             [
              0.2222222222222222,
              "#7201a8"
             ],
             [
              0.3333333333333333,
              "#9c179e"
             ],
             [
              0.4444444444444444,
              "#bd3786"
             ],
             [
              0.5555555555555556,
              "#d8576b"
             ],
             [
              0.6666666666666666,
              "#ed7953"
             ],
             [
              0.7777777777777778,
              "#fb9f3a"
             ],
             [
              0.8888888888888888,
              "#fdca26"
             ],
             [
              1,
              "#f0f921"
             ]
            ],
            "type": "surface"
           }
          ],
          "table": [
           {
            "cells": {
             "fill": {
              "color": "#EBF0F8"
             },
             "line": {
              "color": "white"
             }
            },
            "header": {
             "fill": {
              "color": "#C8D4E3"
             },
             "line": {
              "color": "white"
             }
            },
            "type": "table"
           }
          ]
         },
         "layout": {
          "annotationdefaults": {
           "arrowcolor": "#2a3f5f",
           "arrowhead": 0,
           "arrowwidth": 1
          },
          "autotypenumbers": "strict",
          "coloraxis": {
           "colorbar": {
            "outlinewidth": 0,
            "ticks": ""
           }
          },
          "colorscale": {
           "diverging": [
            [
             0,
             "#8e0152"
            ],
            [
             0.1,
             "#c51b7d"
            ],
            [
             0.2,
             "#de77ae"
            ],
            [
             0.3,
             "#f1b6da"
            ],
            [
             0.4,
             "#fde0ef"
            ],
            [
             0.5,
             "#f7f7f7"
            ],
            [
             0.6,
             "#e6f5d0"
            ],
            [
             0.7,
             "#b8e186"
            ],
            [
             0.8,
             "#7fbc41"
            ],
            [
             0.9,
             "#4d9221"
            ],
            [
             1,
             "#276419"
            ]
           ],
           "sequential": [
            [
             0,
             "#0d0887"
            ],
            [
             0.1111111111111111,
             "#46039f"
            ],
            [
             0.2222222222222222,
             "#7201a8"
            ],
            [
             0.3333333333333333,
             "#9c179e"
            ],
            [
             0.4444444444444444,
             "#bd3786"
            ],
            [
             0.5555555555555556,
             "#d8576b"
            ],
            [
             0.6666666666666666,
             "#ed7953"
            ],
            [
             0.7777777777777778,
             "#fb9f3a"
            ],
            [
             0.8888888888888888,
             "#fdca26"
            ],
            [
             1,
             "#f0f921"
            ]
           ],
           "sequentialminus": [
            [
             0,
             "#0d0887"
            ],
            [
             0.1111111111111111,
             "#46039f"
            ],
            [
             0.2222222222222222,
             "#7201a8"
            ],
            [
             0.3333333333333333,
             "#9c179e"
            ],
            [
             0.4444444444444444,
             "#bd3786"
            ],
            [
             0.5555555555555556,
             "#d8576b"
            ],
            [
             0.6666666666666666,
             "#ed7953"
            ],
            [
             0.7777777777777778,
             "#fb9f3a"
            ],
            [
             0.8888888888888888,
             "#fdca26"
            ],
            [
             1,
             "#f0f921"
            ]
           ]
          },
          "colorway": [
           "#636efa",
           "#EF553B",
           "#00cc96",
           "#ab63fa",
           "#FFA15A",
           "#19d3f3",
           "#FF6692",
           "#B6E880",
           "#FF97FF",
           "#FECB52"
          ],
          "font": {
           "color": "#2a3f5f"
          },
          "geo": {
           "bgcolor": "white",
           "lakecolor": "white",
           "landcolor": "#E5ECF6",
           "showlakes": true,
           "showland": true,
           "subunitcolor": "white"
          },
          "hoverlabel": {
           "align": "left"
          },
          "hovermode": "closest",
          "mapbox": {
           "style": "light"
          },
          "paper_bgcolor": "white",
          "plot_bgcolor": "#E5ECF6",
          "polar": {
           "angularaxis": {
            "gridcolor": "white",
            "linecolor": "white",
            "ticks": ""
           },
           "bgcolor": "#E5ECF6",
           "radialaxis": {
            "gridcolor": "white",
            "linecolor": "white",
            "ticks": ""
           }
          },
          "scene": {
           "xaxis": {
            "backgroundcolor": "#E5ECF6",
            "gridcolor": "white",
            "gridwidth": 2,
            "linecolor": "white",
            "showbackground": true,
            "ticks": "",
            "zerolinecolor": "white"
           },
           "yaxis": {
            "backgroundcolor": "#E5ECF6",
            "gridcolor": "white",
            "gridwidth": 2,
            "linecolor": "white",
            "showbackground": true,
            "ticks": "",
            "zerolinecolor": "white"
           },
           "zaxis": {
            "backgroundcolor": "#E5ECF6",
            "gridcolor": "white",
            "gridwidth": 2,
            "linecolor": "white",
            "showbackground": true,
            "ticks": "",
            "zerolinecolor": "white"
           }
          },
          "shapedefaults": {
           "line": {
            "color": "#2a3f5f"
           }
          },
          "ternary": {
           "aaxis": {
            "gridcolor": "white",
            "linecolor": "white",
            "ticks": ""
           },
           "baxis": {
            "gridcolor": "white",
            "linecolor": "white",
            "ticks": ""
           },
           "bgcolor": "#E5ECF6",
           "caxis": {
            "gridcolor": "white",
            "linecolor": "white",
            "ticks": ""
           }
          },
          "title": {
           "x": 0.05
          },
          "xaxis": {
           "automargin": true,
           "gridcolor": "white",
           "linecolor": "white",
           "ticks": "",
           "title": {
            "standoff": 15
           },
           "zerolinecolor": "white",
           "zerolinewidth": 2
          },
          "yaxis": {
           "automargin": true,
           "gridcolor": "white",
           "linecolor": "white",
           "ticks": "",
           "title": {
            "standoff": 15
           },
           "zerolinecolor": "white",
           "zerolinewidth": 2
          }
         }
        },
        "xaxis": {
         "anchor": "y",
         "domain": [
          0,
          1
         ],
         "title": {
          "text": "Mileage"
         }
        },
        "yaxis": {
         "anchor": "x",
         "domain": [
          0,
          1
         ],
         "title": {
          "text": "Price"
         }
        }
       }
      }
     },
     "metadata": {},
     "output_type": "display_data"
    }
   ],
   "source": [
    "fig = px.scatter(df.sort_values(by='Year'), x = \"Mileage\", y = \"Price\", color = \"Year\", hover_data=[\"Name\"])\n",
    "fig.show()"
   ]
  },
  {
   "cell_type": "markdown",
   "metadata": {},
   "source": [
    "### Viz #2: Interactive Table With Sorting Functionality"
   ]
  },
  {
   "cell_type": "code",
   "execution_count": 37,
   "metadata": {},
   "outputs": [
    {
     "data": {
      "text/plain": [
       "['Year', 'Mileage', 'Price', 'Make', 'Name']"
      ]
     },
     "execution_count": 37,
     "metadata": {},
     "output_type": "execute_result"
    }
   ],
   "source": [
    "unwanted_columns = ['Date-Make', 'Dealer Name', 'ID', 'Rating Count', 'Date', 'Rating']\n",
    "\n",
    "columns = list(df.columns)\n",
    "columns = [i for i in columns if i not in unwanted_columns]\n",
    "# columns.remove('Date-Make')\n",
    "# columns.remove('Dealer Name')\n",
    "columns"
   ]
  },
  {
   "cell_type": "code",
   "execution_count": 41,
   "metadata": {},
   "outputs": [
    {
     "data": {
      "application/vnd.plotly.v1+json": {
       "config": {
        "plotlyServerURL": "https://plot.ly"
       },
       "data": [
        {
         "cells": {
          "align": "left",
          "fill": {
           "color": "lavender"
          },
          "values": [
           [
            "2017 Acura MDX 3.5L w/Technology Package",
            "2018 Acura MDX 3.5L w/Technology Package",
            "2019 Acura ILX Premium Package",
            "2019 Acura MDX 3.5L Technology & A-Spec Pkgs",
            "2019 Acura MDX 3.5L w/Technology Package",
            "2019 Acura MDX 3.5L w/Technology Package",
            "2019 Acura MDX 3.5L w/Technology Package",
            "2019 Acura RDX Base",
            "2019 Acura RDX Technology Package",
            "2019 Acura TLX FWD",
            "2020 Acura MDX 3.5L",
            "2020 Acura MDX 3.5L w/Technology Package",
            "2020 Acura MDX 3.5L w/Technology Package",
            "2020 Acura MDX 3.5L w/Technology Package",
            "2020 Acura MDX 3.5L w/Technology Package",
            "2020 Acura RDX A-Spec",
            "2020 Acura RDX Advance Package",
            "2020 Acura RDX Base",
            "2020 Acura RDX Base",
            "2020 Acura RDX Technology Package",
            "2020 Acura TLX FWD",
            "2020 Acura TLX FWD",
            "2020 Acura TLX V6",
            "2021 Acura TLX Tech",
            "2021 Acura TLX Technology",
            "2022 Acura MDX w/Advance Package",
            "2022 Acura TLX A-Spec",
            "2016 Acura TLX V6 Tech",
            "2017 Acura MDX 3.5L w/Technology Package",
            "2018 Acura TLX FWD",
            "2019 Acura ILX Premium Package",
            "2019 Acura MDX 3.5L w/Technology Package",
            "2019 Acura RDX Technology Package",
            "2020 Acura MDX 3.5L",
            "2020 Acura MDX 3.5L",
            "2020 Acura MDX 3.5L w/Technology Package",
            "2020 Acura RDX A-Spec",
            "2020 Acura RDX Base",
            "2020 Acura RDX Base",
            "2020 Acura RDX Base",
            "2020 Acura RDX Technology Package",
            "2020 Acura RDX Technology Package",
            "2020 Acura RDX Technology Package",
            "2020 Acura RDX Technology Package",
            "2020 Acura RDX Technology Package",
            "2020 Acura RDX Technology Package",
            "2020 Acura TLX FWD",
            "2020 Acura TLX FWD",
            "2020 Acura TLX FWD",
            "2020 Acura TLX V6 w/Technology Package",
            "2021 Acura ILX Premium Package",
            "2021 Acura RDX A-Spec",
            "2021 Acura RDX Technology Package",
            "2021 Acura RDX Technology Package",
            "2021 Acura TLX Technology",
            "2022 Acura MDX A-Spec",
            "2022 Acura MDX A-Spec",
            "2022 Acura MDX Advance",
            "2022 Acura MDX Technology",
            "2022 Acura MDX Type S",
            "2022 Acura MDX Type S",
            "2022 Acura MDX w/A-Spec Package",
            "2018 Acura MDX 3.5L w/Technology Package",
            "2019 Acura MDX 3.5L",
            "2019 Acura RDX ",
            "2020 Acura MDX 3.5L w/Technology Package",
            "2020 Acura RDX A-Spec",
            "2020 Acura TLX V6 w/Technology Package",
            "2021 Acura RDX Technology Package",
            "2017 Acura MDX 3.5L w/Advance Package",
            "2019 Acura MDX 3.5L",
            "2019 Acura MDX 3.5L w/Advance & Entertainment Pkgs",
            "2019 Acura MDX 3.5L w/Technology Package",
            "2019 Acura RDX ",
            "2019 Acura RDX Base (A10)",
            "2019 Acura RDX Base",
            "2019 Acura RDX Base",
            "2019 Acura RDX Base",
            "2019 Acura RDX Technology Package",
            "2019 Acura RDX Technology Package",
            "2020 Acura ILX Premium Package",
            "2020 Acura MDX 3.5L",
            "2020 Acura MDX 3.5L",
            "2020 Acura MDX 3.5L",
            "2020 Acura MDX 3.5L",
            "2020 Acura MDX 3.5L w/Technology Package",
            "2020 Acura MDX 3.5L w/Technology Package",
            "2020 Acura RDX A-Spec",
            "2020 Acura RDX Technology Package",
            "2020 Acura RDX Technology Package",
            "2020 Acura RDX Technology Package",
            "2020 Acura TLX FWD",
            "2020 Acura TLX FWD",
            "2020 Acura TLX FWD",
            "2020 Acura TLX Technology",
            "2020 Acura TLX Technology",
            "2021 Acura RDX A-Spec",
            "2021 Acura TLX A-Spec",
            "2022 Acura MDX A-Spec",
            "2022 Acura MDX A-Spec",
            "2022 Acura MDX Type S",
            "2018 Acura MDX 3.5L w/Technology Package",
            "2018 Acura TLX V6 A-Spec",
            "2019 Acura MDX 3.5L",
            "2019 Acura MDX 3.5L",
            "2019 Acura MDX 3.5L",
            "2019 Acura MDX 3.5L w/Technology Package",
            "2019 Acura MDX 3.5L w/Technology Package",
            "2019 Acura RDX Advance Package",
            "2019 Acura RDX Base (A10)",
            "2019 Acura RDX Base",
            "2019 Acura RDX Technology Package",
            "2019 Acura RDX Technology Package",
            "2020 Acura MDX 3.5L",
            "2020 Acura MDX 3.5L",
            "2020 Acura MDX 3.5L",
            "2020 Acura MDX 3.5L",
            "2020 Acura MDX 3.5L",
            "2020 Acura MDX 3.5L w/Technology Package",
            "2020 Acura MDX 3.5L w/Technology Package",
            "2020 Acura MDX 3.5L w/Technology Package",
            "2020 Acura MDX 3.5L w/Technology Package",
            "2020 Acura RDX A-Spec",
            "2020 Acura RDX Advance Package",
            "2020 Acura RDX Base",
            "2020 Acura RDX Base",
            "2020 Acura RDX Base",
            "2020 Acura RDX Technology",
            "2020 Acura RDX Technology Package",
            "2020 Acura TLX V6 w/Technology Package",
            "2020 Acura TLX V6 w/Technology Package",
            "2021 Acura RDX Technology Package",
            "2021 Acura RDX Technology Package",
            "2022 Acura MDX A-Spec",
            "2022 Acura MDX Advance",
            "2019 Acura MDX 3.5L",
            "2019 Acura MDX 3.5L",
            "2019 Acura MDX 3.5L Technology & A-Spec Pkgs",
            "2019 Acura MDX 3.5L w/Advance & Entertainment Pkgs",
            "2019 Acura MDX 3.5L w/Technology Package",
            "2019 Acura RDX Base",
            "2019 Acura RDX Technology Package",
            "2019 Acura RDX Technology Package",
            "2020 Acura MDX 3.5L w/Technology Package",
            "2020 Acura MDX 3.5L w/Technology Package",
            "2020 Acura MDX 3.5L w/Technology Package",
            "2020 Acura MDX 3.5L w/Technology Package",
            "2020 Acura MDX 3.5L w/Technology Package",
            "2020 Acura MDX 3.5L w/Technology Package",
            "2020 Acura RDX A-Spec",
            "2020 Acura RDX A-Spec",
            "2020 Acura RDX Advance Package",
            "2020 Acura RDX Advance Package",
            "2020 Acura RDX Advance Package",
            "2020 Acura RDX Advance Package",
            "2020 Acura RDX Base",
            "2020 Acura RDX Base",
            "2020 Acura TLX FWD",
            "2020 Acura TLX FWD",
            "2020 Acura TLX V6 w/Technology Package",
            "2021 Acura RDX Base",
            "2021 Acura RDX Base",
            "2021 Acura RDX Technology Package",
            "2021 Acura RDX Technology Package",
            "2021 Acura RDX Technology Package",
            "2021 Acura RDX Technology Package",
            "2021 Acura TLX Technology",
            "2021 Acura TLX Technology",
            "2022 Acura MDX Base",
            "2018 Acura TLX Technology",
            "2019 Acura MDX 3.5L",
            "2019 Acura MDX 3.5L w/Technology Package",
            "2019 Acura MDX 3.5L w/Technology Package",
            "2019 Acura MDX 3.5L w/Technology Package",
            "2019 Acura MDX 3.5L w/Technology Package",
            "2019 Acura RDX Base",
            "2019 Acura RDX Technology Package",
            "2019 Acura RDX Technology Package",
            "2020 Acura MDX 3.5L",
            "2020 Acura MDX 3.5L",
            "2020 Acura MDX 3.5L w/Technology Package",
            "2020 Acura MDX 3.5L w/Technology Package",
            "2020 Acura RDX Technology Package",
            "2020 Acura RDX Technology Package",
            "2020 Acura RDX Technology Package",
            "2020 Acura RDX Technology Package",
            "2020 Acura TLX FWD",
            "2020 Acura TLX V6",
            "2020 Acura TLX V6 w/Technology Package",
            "2021 Acura TLX A-Spec",
            "2021 Acura TLX Base",
            "2021 Acura TLX Technology",
            "2021 Acura TLX w/Advance Package",
            "2021 Acura TLX w/Advance Package",
            "2022 Acura TLX A-Spec"
           ],
           [
            "2017",
            "2018",
            "2019",
            "2019",
            "2019",
            "2019",
            "2019",
            "2019",
            "2019",
            "2019",
            "2020",
            "2020",
            "2020",
            "2020",
            "2020",
            "2020",
            "2020",
            "2020",
            "2020",
            "2020",
            "2020",
            "2020",
            "2020",
            "2021",
            "2021",
            "2022",
            "2022",
            "2016",
            "2017",
            "2018",
            "2019",
            "2019",
            "2019",
            "2020",
            "2020",
            "2020",
            "2020",
            "2020",
            "2020",
            "2020",
            "2020",
            "2020",
            "2020",
            "2020",
            "2020",
            "2020",
            "2020",
            "2020",
            "2020",
            "2020",
            "2021",
            "2021",
            "2021",
            "2021",
            "2021",
            "2022",
            "2022",
            "2022",
            "2022",
            "2022",
            "2022",
            "2022",
            "2018",
            "2019",
            "2019",
            "2020",
            "2020",
            "2020",
            "2021",
            "2017",
            "2019",
            "2019",
            "2019",
            "2019",
            "2019",
            "2019",
            "2019",
            "2019",
            "2019",
            "2019",
            "2020",
            "2020",
            "2020",
            "2020",
            "2020",
            "2020",
            "2020",
            "2020",
            "2020",
            "2020",
            "2020",
            "2020",
            "2020",
            "2020",
            "2020",
            "2020",
            "2021",
            "2021",
            "2022",
            "2022",
            "2022",
            "2018",
            "2018",
            "2019",
            "2019",
            "2019",
            "2019",
            "2019",
            "2019",
            "2019",
            "2019",
            "2019",
            "2019",
            "2020",
            "2020",
            "2020",
            "2020",
            "2020",
            "2020",
            "2020",
            "2020",
            "2020",
            "2020",
            "2020",
            "2020",
            "2020",
            "2020",
            "2020",
            "2020",
            "2020",
            "2020",
            "2021",
            "2021",
            "2022",
            "2022",
            "2019",
            "2019",
            "2019",
            "2019",
            "2019",
            "2019",
            "2019",
            "2019",
            "2020",
            "2020",
            "2020",
            "2020",
            "2020",
            "2020",
            "2020",
            "2020",
            "2020",
            "2020",
            "2020",
            "2020",
            "2020",
            "2020",
            "2020",
            "2020",
            "2020",
            "2021",
            "2021",
            "2021",
            "2021",
            "2021",
            "2021",
            "2021",
            "2021",
            "2022",
            "2018",
            "2019",
            "2019",
            "2019",
            "2019",
            "2019",
            "2019",
            "2019",
            "2019",
            "2020",
            "2020",
            "2020",
            "2020",
            "2020",
            "2020",
            "2020",
            "2020",
            "2020",
            "2020",
            "2020",
            "2021",
            "2021",
            "2021",
            "2021",
            "2021",
            "2022"
           ],
           [
            33991,
            38394,
            29377,
            42828,
            37850,
            38553,
            39257,
            39998,
            39420,
            31999,
            36926,
            42200,
            42340,
            42980,
            45998,
            43774,
            41985,
            35000,
            37495,
            40703,
            31987,
            34990,
            30856,
            43999,
            40695,
            59987,
            45513,
            23115,
            34591,
            27974,
            29377,
            34210,
            36987,
            38950,
            39000,
            43500,
            39126,
            35801,
            37995,
            38490,
            36500,
            37392,
            39275,
            39500,
            40376,
            42786,
            30298,
            31385,
            31469,
            35230,
            32585,
            46585,
            41698,
            43988,
            43491,
            59997,
            60220,
            60000,
            53898,
            68000,
            69981,
            59323,
            37816,
            36062,
            38534,
            42222,
            41691,
            33994,
            41550,
            38488,
            36715,
            41912,
            40496,
            37364,
            38534,
            35988,
            36657,
            36895,
            37285,
            40457,
            28496,
            37500,
            37655,
            37980,
            40980,
            43500,
            44451,
            41691,
            36947,
            39898,
            40749,
            28997,
            29997,
            31968,
            31647,
            34591,
            45892,
            46990,
            60777,
            61589,
            68000,
            39807,
            33458,
            33995,
            35000,
            40823,
            34928,
            41495,
            44019,
            37364,
            39500,
            34980,
            35980,
            37995,
            38899,
            40795,
            40989,
            41295,
            43500,
            44986,
            44997,
            45990,
            44995,
            41997,
            34825,
            37899,
            39241,
            39952,
            42399,
            34994,
            39883,
            46369,
            46573,
            55495,
            60698,
            36549,
            39865,
            45244,
            43994,
            36995,
            36585,
            36480,
            36990,
            41986,
            42994,
            43170,
            43600,
            43699,
            43986,
            41995,
            43598,
            39935,
            40699,
            42462,
            42486,
            36363,
            37900,
            27998,
            29839,
            33797,
            39996,
            41791,
            42959,
            43999,
            44417,
            45849,
            40495,
            41895,
            46823,
            27410,
            38200,
            35600,
            39208,
            39499,
            41495,
            34600,
            38238,
            39355,
            36870,
            38900,
            42644,
            43982,
            38990,
            38991,
            40595,
            40999,
            31693,
            31497,
            34977,
            41856,
            37995,
            43991,
            42433,
            42554,
            45259
           ],
           [
            48766,
            44387,
            10236,
            48929,
            27107,
            34535,
            30948,
            14140,
            22496,
            32736,
            43650,
            24995,
            30772,
            53801,
            19958,
            17541,
            24534,
            30050,
            12383,
            11602,
            31464,
            13806,
            34893,
            13599,
            7936,
            28005,
            5045,
            88417,
            44371,
            47341,
            10235,
            82142,
            47501,
            43838,
            17697,
            32931,
            57211,
            67302,
            30202,
            35900,
            49250,
            37909,
            24941,
            23872,
            24963,
            29982,
            48674,
            27243,
            27947,
            30382,
            10549,
            39698,
            29525,
            16993,
            10248,
            3583,
            11173,
            30550,
            21072,
            3132,
            12367,
            10772,
            54819,
            48147,
            12440,
            12785,
            38565,
            22323,
            23587,
            47924,
            48147,
            46639,
            28768,
            21700,
            12440,
            33258,
            44355,
            19388,
            47501,
            14906,
            19134,
            32127,
            31601,
            31725,
            24140,
            32929,
            7140,
            38560,
            54550,
            24941,
            24963,
            27798,
            21350,
            27947,
            29963,
            17440,
            39698,
            10747,
            11173,
            6526,
            1876,
            44387,
            37073,
            45588,
            39370,
            11232,
            82142,
            31457,
            15299,
            21700,
            10168,
            47573,
            41866,
            11968,
            33057,
            11961,
            31354,
            12488,
            31388,
            25891,
            14404,
            41470,
            26826,
            24534,
            56635,
            23149,
            45822,
            35130,
            31773,
            23759,
            17555,
            14129,
            11369,
            11532,
            18337,
            34347,
            19824,
            30905,
            35319,
            31279,
            36930,
            41866,
            31753,
            30131,
            16070,
            32909,
            31388,
            32929,
            30203,
            29378,
            8445,
            47473,
            36391,
            16083,
            24534,
            34760,
            23149,
            14885,
            43782,
            15262,
            29678,
            21428,
            12462,
            19044,
            17278,
            12344,
            14903,
            12442,
            14675,
            33713,
            29279,
            58915,
            43907,
            34535,
            22104,
            30377,
            52340,
            31519,
            42810,
            33057,
            53801,
            30494,
            30917,
            23438,
            24654,
            33702,
            30131,
            43096,
            17255,
            21155,
            24574,
            14869,
            7346,
            6839,
            5044
           ]
          ]
         },
         "header": {
          "align": "left",
          "fill": {
           "color": "paleturquoise"
          },
          "values": [
           "Name",
           "Year",
           "Price",
           "Mileage"
          ]
         },
         "type": "table"
        }
       ],
       "layout": {
        "template": {
         "data": {
          "bar": [
           {
            "error_x": {
             "color": "#2a3f5f"
            },
            "error_y": {
             "color": "#2a3f5f"
            },
            "marker": {
             "line": {
              "color": "#E5ECF6",
              "width": 0.5
             },
             "pattern": {
              "fillmode": "overlay",
              "size": 10,
              "solidity": 0.2
             }
            },
            "type": "bar"
           }
          ],
          "barpolar": [
           {
            "marker": {
             "line": {
              "color": "#E5ECF6",
              "width": 0.5
             },
             "pattern": {
              "fillmode": "overlay",
              "size": 10,
              "solidity": 0.2
             }
            },
            "type": "barpolar"
           }
          ],
          "carpet": [
           {
            "aaxis": {
             "endlinecolor": "#2a3f5f",
             "gridcolor": "white",
             "linecolor": "white",
             "minorgridcolor": "white",
             "startlinecolor": "#2a3f5f"
            },
            "baxis": {
             "endlinecolor": "#2a3f5f",
             "gridcolor": "white",
             "linecolor": "white",
             "minorgridcolor": "white",
             "startlinecolor": "#2a3f5f"
            },
            "type": "carpet"
           }
          ],
          "choropleth": [
           {
            "colorbar": {
             "outlinewidth": 0,
             "ticks": ""
            },
            "type": "choropleth"
           }
          ],
          "contour": [
           {
            "colorbar": {
             "outlinewidth": 0,
             "ticks": ""
            },
            "colorscale": [
             [
              0,
              "#0d0887"
             ],
             [
              0.1111111111111111,
              "#46039f"
             ],
             [
              0.2222222222222222,
              "#7201a8"
             ],
             [
              0.3333333333333333,
              "#9c179e"
             ],
             [
              0.4444444444444444,
              "#bd3786"
             ],
             [
              0.5555555555555556,
              "#d8576b"
             ],
             [
              0.6666666666666666,
              "#ed7953"
             ],
             [
              0.7777777777777778,
              "#fb9f3a"
             ],
             [
              0.8888888888888888,
              "#fdca26"
             ],
             [
              1,
              "#f0f921"
             ]
            ],
            "type": "contour"
           }
          ],
          "contourcarpet": [
           {
            "colorbar": {
             "outlinewidth": 0,
             "ticks": ""
            },
            "type": "contourcarpet"
           }
          ],
          "heatmap": [
           {
            "colorbar": {
             "outlinewidth": 0,
             "ticks": ""
            },
            "colorscale": [
             [
              0,
              "#0d0887"
             ],
             [
              0.1111111111111111,
              "#46039f"
             ],
             [
              0.2222222222222222,
              "#7201a8"
             ],
             [
              0.3333333333333333,
              "#9c179e"
             ],
             [
              0.4444444444444444,
              "#bd3786"
             ],
             [
              0.5555555555555556,
              "#d8576b"
             ],
             [
              0.6666666666666666,
              "#ed7953"
             ],
             [
              0.7777777777777778,
              "#fb9f3a"
             ],
             [
              0.8888888888888888,
              "#fdca26"
             ],
             [
              1,
              "#f0f921"
             ]
            ],
            "type": "heatmap"
           }
          ],
          "heatmapgl": [
           {
            "colorbar": {
             "outlinewidth": 0,
             "ticks": ""
            },
            "colorscale": [
             [
              0,
              "#0d0887"
             ],
             [
              0.1111111111111111,
              "#46039f"
             ],
             [
              0.2222222222222222,
              "#7201a8"
             ],
             [
              0.3333333333333333,
              "#9c179e"
             ],
             [
              0.4444444444444444,
              "#bd3786"
             ],
             [
              0.5555555555555556,
              "#d8576b"
             ],
             [
              0.6666666666666666,
              "#ed7953"
             ],
             [
              0.7777777777777778,
              "#fb9f3a"
             ],
             [
              0.8888888888888888,
              "#fdca26"
             ],
             [
              1,
              "#f0f921"
             ]
            ],
            "type": "heatmapgl"
           }
          ],
          "histogram": [
           {
            "marker": {
             "pattern": {
              "fillmode": "overlay",
              "size": 10,
              "solidity": 0.2
             }
            },
            "type": "histogram"
           }
          ],
          "histogram2d": [
           {
            "colorbar": {
             "outlinewidth": 0,
             "ticks": ""
            },
            "colorscale": [
             [
              0,
              "#0d0887"
             ],
             [
              0.1111111111111111,
              "#46039f"
             ],
             [
              0.2222222222222222,
              "#7201a8"
             ],
             [
              0.3333333333333333,
              "#9c179e"
             ],
             [
              0.4444444444444444,
              "#bd3786"
             ],
             [
              0.5555555555555556,
              "#d8576b"
             ],
             [
              0.6666666666666666,
              "#ed7953"
             ],
             [
              0.7777777777777778,
              "#fb9f3a"
             ],
             [
              0.8888888888888888,
              "#fdca26"
             ],
             [
              1,
              "#f0f921"
             ]
            ],
            "type": "histogram2d"
           }
          ],
          "histogram2dcontour": [
           {
            "colorbar": {
             "outlinewidth": 0,
             "ticks": ""
            },
            "colorscale": [
             [
              0,
              "#0d0887"
             ],
             [
              0.1111111111111111,
              "#46039f"
             ],
             [
              0.2222222222222222,
              "#7201a8"
             ],
             [
              0.3333333333333333,
              "#9c179e"
             ],
             [
              0.4444444444444444,
              "#bd3786"
             ],
             [
              0.5555555555555556,
              "#d8576b"
             ],
             [
              0.6666666666666666,
              "#ed7953"
             ],
             [
              0.7777777777777778,
              "#fb9f3a"
             ],
             [
              0.8888888888888888,
              "#fdca26"
             ],
             [
              1,
              "#f0f921"
             ]
            ],
            "type": "histogram2dcontour"
           }
          ],
          "mesh3d": [
           {
            "colorbar": {
             "outlinewidth": 0,
             "ticks": ""
            },
            "type": "mesh3d"
           }
          ],
          "parcoords": [
           {
            "line": {
             "colorbar": {
              "outlinewidth": 0,
              "ticks": ""
             }
            },
            "type": "parcoords"
           }
          ],
          "pie": [
           {
            "automargin": true,
            "type": "pie"
           }
          ],
          "scatter": [
           {
            "fillpattern": {
             "fillmode": "overlay",
             "size": 10,
             "solidity": 0.2
            },
            "type": "scatter"
           }
          ],
          "scatter3d": [
           {
            "line": {
             "colorbar": {
              "outlinewidth": 0,
              "ticks": ""
             }
            },
            "marker": {
             "colorbar": {
              "outlinewidth": 0,
              "ticks": ""
             }
            },
            "type": "scatter3d"
           }
          ],
          "scattercarpet": [
           {
            "marker": {
             "colorbar": {
              "outlinewidth": 0,
              "ticks": ""
             }
            },
            "type": "scattercarpet"
           }
          ],
          "scattergeo": [
           {
            "marker": {
             "colorbar": {
              "outlinewidth": 0,
              "ticks": ""
             }
            },
            "type": "scattergeo"
           }
          ],
          "scattergl": [
           {
            "marker": {
             "colorbar": {
              "outlinewidth": 0,
              "ticks": ""
             }
            },
            "type": "scattergl"
           }
          ],
          "scattermapbox": [
           {
            "marker": {
             "colorbar": {
              "outlinewidth": 0,
              "ticks": ""
             }
            },
            "type": "scattermapbox"
           }
          ],
          "scatterpolar": [
           {
            "marker": {
             "colorbar": {
              "outlinewidth": 0,
              "ticks": ""
             }
            },
            "type": "scatterpolar"
           }
          ],
          "scatterpolargl": [
           {
            "marker": {
             "colorbar": {
              "outlinewidth": 0,
              "ticks": ""
             }
            },
            "type": "scatterpolargl"
           }
          ],
          "scatterternary": [
           {
            "marker": {
             "colorbar": {
              "outlinewidth": 0,
              "ticks": ""
             }
            },
            "type": "scatterternary"
           }
          ],
          "surface": [
           {
            "colorbar": {
             "outlinewidth": 0,
             "ticks": ""
            },
            "colorscale": [
             [
              0,
              "#0d0887"
             ],
             [
              0.1111111111111111,
              "#46039f"
             ],
             [
              0.2222222222222222,
              "#7201a8"
             ],
             [
              0.3333333333333333,
              "#9c179e"
             ],
             [
              0.4444444444444444,
              "#bd3786"
             ],
             [
              0.5555555555555556,
              "#d8576b"
             ],
             [
              0.6666666666666666,
              "#ed7953"
             ],
             [
              0.7777777777777778,
              "#fb9f3a"
             ],
             [
              0.8888888888888888,
              "#fdca26"
             ],
             [
              1,
              "#f0f921"
             ]
            ],
            "type": "surface"
           }
          ],
          "table": [
           {
            "cells": {
             "fill": {
              "color": "#EBF0F8"
             },
             "line": {
              "color": "white"
             }
            },
            "header": {
             "fill": {
              "color": "#C8D4E3"
             },
             "line": {
              "color": "white"
             }
            },
            "type": "table"
           }
          ]
         },
         "layout": {
          "annotationdefaults": {
           "arrowcolor": "#2a3f5f",
           "arrowhead": 0,
           "arrowwidth": 1
          },
          "autotypenumbers": "strict",
          "coloraxis": {
           "colorbar": {
            "outlinewidth": 0,
            "ticks": ""
           }
          },
          "colorscale": {
           "diverging": [
            [
             0,
             "#8e0152"
            ],
            [
             0.1,
             "#c51b7d"
            ],
            [
             0.2,
             "#de77ae"
            ],
            [
             0.3,
             "#f1b6da"
            ],
            [
             0.4,
             "#fde0ef"
            ],
            [
             0.5,
             "#f7f7f7"
            ],
            [
             0.6,
             "#e6f5d0"
            ],
            [
             0.7,
             "#b8e186"
            ],
            [
             0.8,
             "#7fbc41"
            ],
            [
             0.9,
             "#4d9221"
            ],
            [
             1,
             "#276419"
            ]
           ],
           "sequential": [
            [
             0,
             "#0d0887"
            ],
            [
             0.1111111111111111,
             "#46039f"
            ],
            [
             0.2222222222222222,
             "#7201a8"
            ],
            [
             0.3333333333333333,
             "#9c179e"
            ],
            [
             0.4444444444444444,
             "#bd3786"
            ],
            [
             0.5555555555555556,
             "#d8576b"
            ],
            [
             0.6666666666666666,
             "#ed7953"
            ],
            [
             0.7777777777777778,
             "#fb9f3a"
            ],
            [
             0.8888888888888888,
             "#fdca26"
            ],
            [
             1,
             "#f0f921"
            ]
           ],
           "sequentialminus": [
            [
             0,
             "#0d0887"
            ],
            [
             0.1111111111111111,
             "#46039f"
            ],
            [
             0.2222222222222222,
             "#7201a8"
            ],
            [
             0.3333333333333333,
             "#9c179e"
            ],
            [
             0.4444444444444444,
             "#bd3786"
            ],
            [
             0.5555555555555556,
             "#d8576b"
            ],
            [
             0.6666666666666666,
             "#ed7953"
            ],
            [
             0.7777777777777778,
             "#fb9f3a"
            ],
            [
             0.8888888888888888,
             "#fdca26"
            ],
            [
             1,
             "#f0f921"
            ]
           ]
          },
          "colorway": [
           "#636efa",
           "#EF553B",
           "#00cc96",
           "#ab63fa",
           "#FFA15A",
           "#19d3f3",
           "#FF6692",
           "#B6E880",
           "#FF97FF",
           "#FECB52"
          ],
          "font": {
           "color": "#2a3f5f"
          },
          "geo": {
           "bgcolor": "white",
           "lakecolor": "white",
           "landcolor": "#E5ECF6",
           "showlakes": true,
           "showland": true,
           "subunitcolor": "white"
          },
          "hoverlabel": {
           "align": "left"
          },
          "hovermode": "closest",
          "mapbox": {
           "style": "light"
          },
          "paper_bgcolor": "white",
          "plot_bgcolor": "#E5ECF6",
          "polar": {
           "angularaxis": {
            "gridcolor": "white",
            "linecolor": "white",
            "ticks": ""
           },
           "bgcolor": "#E5ECF6",
           "radialaxis": {
            "gridcolor": "white",
            "linecolor": "white",
            "ticks": ""
           }
          },
          "scene": {
           "xaxis": {
            "backgroundcolor": "#E5ECF6",
            "gridcolor": "white",
            "gridwidth": 2,
            "linecolor": "white",
            "showbackground": true,
            "ticks": "",
            "zerolinecolor": "white"
           },
           "yaxis": {
            "backgroundcolor": "#E5ECF6",
            "gridcolor": "white",
            "gridwidth": 2,
            "linecolor": "white",
            "showbackground": true,
            "ticks": "",
            "zerolinecolor": "white"
           },
           "zaxis": {
            "backgroundcolor": "#E5ECF6",
            "gridcolor": "white",
            "gridwidth": 2,
            "linecolor": "white",
            "showbackground": true,
            "ticks": "",
            "zerolinecolor": "white"
           }
          },
          "shapedefaults": {
           "line": {
            "color": "#2a3f5f"
           }
          },
          "ternary": {
           "aaxis": {
            "gridcolor": "white",
            "linecolor": "white",
            "ticks": ""
           },
           "baxis": {
            "gridcolor": "white",
            "linecolor": "white",
            "ticks": ""
           },
           "bgcolor": "#E5ECF6",
           "caxis": {
            "gridcolor": "white",
            "linecolor": "white",
            "ticks": ""
           }
          },
          "title": {
           "x": 0.05
          },
          "xaxis": {
           "automargin": true,
           "gridcolor": "white",
           "linecolor": "white",
           "ticks": "",
           "title": {
            "standoff": 15
           },
           "zerolinecolor": "white",
           "zerolinewidth": 2
          },
          "yaxis": {
           "automargin": true,
           "gridcolor": "white",
           "linecolor": "white",
           "ticks": "",
           "title": {
            "standoff": 15
           },
           "zerolinecolor": "white",
           "zerolinewidth": 2
          }
         }
        }
       }
      }
     },
     "metadata": {},
     "output_type": "display_data"
    }
   ],
   "source": [
    "import plotly.graph_objects as go\n",
    "\n",
    "columns = ['Name', 'Year', 'Price', 'Mileage']\n",
    "\n",
    "fig = go.Figure(data = [go.Table(\n",
    "    header = dict(values=columns,\n",
    "            fill_color='paleturquoise',\n",
    "            align = 'left'),\n",
    "    cells = dict(values = [df.Name, df.Year, df.Price, df.Mileage],\n",
    "                 fill_color = 'lavender',\n",
    "                 align = 'left'))\n",
    "\n",
    "])\n",
    "\n",
    "fig.show()"
   ]
  },
  {
   "cell_type": "markdown",
   "metadata": {},
   "source": [
    "#### Possible Viz's\n",
    "\n",
    "- Listings of each car make and their price in the past week\n",
    "\n",
    "- Select one car make-model from a drop-down menu and check how the average price listing has been, avg with # listings - recent week\n",
    "- mileage to price correlation for each make - recent week \n",
    "- donut chart for each different model\n",
    "\n",
    "\n",
    "\n",
    "- Make some linear regression with car models, price"
   ]
  }
 ],
 "metadata": {
  "kernelspec": {
   "display_name": "Python 3.10.6 ('car_scraper_venv': venv)",
   "language": "python",
   "name": "python3"
  },
  "language_info": {
   "codemirror_mode": {
    "name": "ipython",
    "version": 3
   },
   "file_extension": ".py",
   "mimetype": "text/x-python",
   "name": "python",
   "nbconvert_exporter": "python",
   "pygments_lexer": "ipython3",
   "version": "3.10.6"
  },
  "orig_nbformat": 4,
  "vscode": {
   "interpreter": {
    "hash": "a0aeae85c24dc6a280a542a6b0e07bdec5e818a7b075717e63d29bc71e8b3e5c"
   }
  }
 },
 "nbformat": 4,
 "nbformat_minor": 2
}
